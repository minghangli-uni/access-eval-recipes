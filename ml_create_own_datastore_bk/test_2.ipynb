{
 "cells": [
  {
   "cell_type": "code",
   "execution_count": 1,
   "id": "57eb7bbf-f099-4edd-8212-3e582758cd04",
   "metadata": {},
   "outputs": [],
   "source": [
    "%load_ext autoreload\n",
    "%autoreload 2"
   ]
  },
  {
   "cell_type": "code",
   "execution_count": 2,
   "id": "bd091645-aac2-46b8-bc06-15b2544000e1",
   "metadata": {},
   "outputs": [],
   "source": [
    "import sys\n",
    "import os\n",
    "from matplotlib import pyplot as plt\n",
    "from pprint import pprint\n",
    "from intake import open_esm_datastore\n",
    "import pandas as pd\n",
    "import cftime\n",
    "tool_dir = '/g/data/tm70/ml0072/COMMON/git_repos/fork_access-eval-recipes/ml_create_own_datastore'\n",
    "sys.path.append(tool_dir)\n",
    "from common_functions import _expt_name_combo, _read_ryaml, plot_time_series_combo, plot_time_series_combo2, _set_default_plt_params, plot2d, plot3d,plot3d2\n"
   ]
  },
  {
   "cell_type": "code",
   "execution_count": 3,
   "id": "8e8d5413-83b1-4d41-95c3-18a8b5c38304",
   "metadata": {},
   "outputs": [],
   "source": [
    "pd.set_option('display.max_rows', None)\n",
    "pd.set_option('display.max_columns', None)"
   ]
  },
  {
   "cell_type": "code",
   "execution_count": 10,
   "id": "daa2b5fc-26c9-4b98-8730-1bd239819905",
   "metadata": {},
   "outputs": [],
   "source": [
    "yaml_input = 'Expts_manager_10_year_insan_runs_longer.yaml'\n",
    "yamlfile_path = os.path.join(tool_dir,yaml_input)\n",
    "yaml_input = _read_ryaml(yamlfile_path)\n",
    "MOM_contrl_dir = yaml_input['base_dir_name']\n",
    "contrl_name = 'DT_THERM_1800_DIABATIC_FIRST_True_THERMO_SPANS_COUPLING_False_DTBT_RESET_PERIOD_0'"
   ]
  },
  {
   "cell_type": "code",
   "execution_count": 11,
   "id": "7b959964-60bf-4b47-bd8a-3b88e4ba5752",
   "metadata": {},
   "outputs": [
    {
     "data": {
      "text/plain": [
       "'Ctrl-1deg_jra55do_ryf2'"
      ]
     },
     "execution_count": 11,
     "metadata": {},
     "output_type": "execute_result"
    }
   ],
   "source": [
    "MOM_contrl_dir"
   ]
  },
  {
   "cell_type": "code",
   "execution_count": 14,
   "id": "f3f6fa4b-fad3-430f-aea3-e256c9f42570",
   "metadata": {},
   "outputs": [
    {
     "name": "stdout",
     "output_type": "stream",
     "text": [
      "['Ctrl-1deg_jra55do_ryf2',\n",
      " 'lexpt7',\n",
      " 'lexpt9',\n",
      " 'lexpt11',\n",
      " 'lexpt13',\n",
      " 'lexpt15',\n",
      " 'lexpt16',\n",
      " 'lexpt17']\n",
      "['DT_THERM_1800_DIABATIC_FIRST_True_THERMO_SPANS_COUPLING_False_DTBT_RESET_PERIOD_0',\n",
      " 'DT_THERM_54000_DIABATIC_FIRST_False_THERMO_SPANS_COUPLING_True_DTBT_RESET_PERIOD_54000',\n",
      " 'DT_THERM_36000_DIABATIC_FIRST_False_THERMO_SPANS_COUPLING_True_DTBT_RESET_PERIOD_36000',\n",
      " 'DT_THERM_18000_DIABATIC_FIRST_False_THERMO_SPANS_COUPLING_True_DTBT_RESET_PERIOD_18000',\n",
      " 'DT_THERM_7200_DIABATIC_FIRST_False_THERMO_SPANS_COUPLING_True_DTBT_RESET_PERIOD_7200',\n",
      " 'DT_THERM_10800_DIABATIC_FIRST_False_THERMO_SPANS_COUPLING_True_DTBT_RESET_PERIOD_10800',\n",
      " 'DT_THERM_14400_DIABATIC_FIRST_False_THERMO_SPANS_COUPLING_True_DTBT_RESET_PERIOD_14400',\n",
      " 'DT_THERM_3600_DIABATIC_FIRST_False_THERMO_SPANS_COUPLING_True_DTBT_RESET_PERIOD_3600']\n"
     ]
    }
   ],
   "source": [
    "MOM_expt_dir1 = yaml_input['namelists']['MOM_input']['MOM_input_dir1']\n",
    "MOM_list1_combo = yaml_input['namelists']['MOM_input']['MOM_list1_combo']\n",
    "expt_names = _expt_name_combo(MOM_list1_combo)\n",
    "\n",
    "MOM_dirs = [MOM_contrl_dir]+list(MOM_expt_dir1)\n",
    "MOM_names = [contrl_name] + list(expt_names)\n",
    "#MOM_dirs = list(MOM_expt_dir1)\n",
    "#MOM_names = list(expt_names)\n",
    "\n",
    "pprint(MOM_dirs)\n",
    "pprint(MOM_names)"
   ]
  },
  {
   "cell_type": "code",
   "execution_count": 15,
   "id": "facc1e98-03a1-4fab-9c76-93d7283f8150",
   "metadata": {},
   "outputs": [],
   "source": [
    "output_expt_path = '/g/data/tm70/ml0072/COMMON/git_repos/Expts_manager/product_1_instan_short_runs/product1'"
   ]
  },
  {
   "cell_type": "code",
   "execution_count": 17,
   "id": "04436a8c-e067-472d-966f-7b44cedf57c0",
   "metadata": {},
   "outputs": [
    {
     "data": {
      "text/plain": [
       "['/g/data/tm70/ml0072/COMMON/git_repos/Expts_manager/product_1_instan_short_runs/product1/Ctrl-1deg_jra55do_ryf2/archive',\n",
       " '/g/data/tm70/ml0072/COMMON/git_repos/Expts_manager/product_1_instan_short_runs/product1/lexpt7/archive',\n",
       " '/g/data/tm70/ml0072/COMMON/git_repos/Expts_manager/product_1_instan_short_runs/product1/lexpt9/archive',\n",
       " '/g/data/tm70/ml0072/COMMON/git_repos/Expts_manager/product_1_instan_short_runs/product1/lexpt11/archive',\n",
       " '/g/data/tm70/ml0072/COMMON/git_repos/Expts_manager/product_1_instan_short_runs/product1/lexpt13/archive',\n",
       " '/g/data/tm70/ml0072/COMMON/git_repos/Expts_manager/product_1_instan_short_runs/product1/lexpt15/archive',\n",
       " '/g/data/tm70/ml0072/COMMON/git_repos/Expts_manager/product_1_instan_short_runs/product1/lexpt16/archive',\n",
       " '/g/data/tm70/ml0072/COMMON/git_repos/Expts_manager/product_1_instan_short_runs/product1/lexpt17/archive']"
      ]
     },
     "execution_count": 17,
     "metadata": {},
     "output_type": "execute_result"
    }
   ],
   "source": [
    "all_paths = []\n",
    "for i in range(len(MOM_dirs)):\n",
    "    all_path = os.path.join(f\"{output_expt_path}\",f\"{MOM_dirs[i]}\",\"archive\")\n",
    "    all_paths.append(all_path)\n",
    "all_paths"
   ]
  },
  {
   "cell_type": "code",
   "execution_count": 20,
   "id": "721a5ffe-0879-4b3f-b9ba-19262a183ac7",
   "metadata": {},
   "outputs": [
    {
     "data": {
      "text/plain": [
       "{'DT_THERM_1800_DIABATIC_FIRST_True_THERMO_SPANS_COUPLING_False_DTBT_RESET_PERIOD_0': '/g/data/tm70/ml0072/COMMON/git_repos/Expts_manager/product_1_instan_short_runs/product1/Ctrl-1deg_jra55do_ryf2/archive',\n",
       " 'DT_THERM_54000_DIABATIC_FIRST_False_THERMO_SPANS_COUPLING_True_DTBT_RESET_PERIOD_54000': '/g/data/tm70/ml0072/COMMON/git_repos/Expts_manager/product_1_instan_short_runs/product1/lexpt7/archive',\n",
       " 'DT_THERM_36000_DIABATIC_FIRST_False_THERMO_SPANS_COUPLING_True_DTBT_RESET_PERIOD_36000': '/g/data/tm70/ml0072/COMMON/git_repos/Expts_manager/product_1_instan_short_runs/product1/lexpt9/archive',\n",
       " 'DT_THERM_18000_DIABATIC_FIRST_False_THERMO_SPANS_COUPLING_True_DTBT_RESET_PERIOD_18000': '/g/data/tm70/ml0072/COMMON/git_repos/Expts_manager/product_1_instan_short_runs/product1/lexpt11/archive',\n",
       " 'DT_THERM_7200_DIABATIC_FIRST_False_THERMO_SPANS_COUPLING_True_DTBT_RESET_PERIOD_7200': '/g/data/tm70/ml0072/COMMON/git_repos/Expts_manager/product_1_instan_short_runs/product1/lexpt13/archive',\n",
       " 'DT_THERM_10800_DIABATIC_FIRST_False_THERMO_SPANS_COUPLING_True_DTBT_RESET_PERIOD_10800': '/g/data/tm70/ml0072/COMMON/git_repos/Expts_manager/product_1_instan_short_runs/product1/lexpt15/archive',\n",
       " 'DT_THERM_14400_DIABATIC_FIRST_False_THERMO_SPANS_COUPLING_True_DTBT_RESET_PERIOD_14400': '/g/data/tm70/ml0072/COMMON/git_repos/Expts_manager/product_1_instan_short_runs/product1/lexpt16/archive',\n",
       " 'DT_THERM_3600_DIABATIC_FIRST_False_THERMO_SPANS_COUPLING_True_DTBT_RESET_PERIOD_3600': '/g/data/tm70/ml0072/COMMON/git_repos/Expts_manager/product_1_instan_short_runs/product1/lexpt17/archive'}"
      ]
     },
     "execution_count": 20,
     "metadata": {},
     "output_type": "execute_result"
    }
   ],
   "source": [
    "RUNS = {}\n",
    "for i in range(len(all_paths)):\n",
    "    RUNS[MOM_names[i]] = all_paths[i]\n",
    "RUNS"
   ]
  },
  {
   "cell_type": "code",
   "execution_count": 21,
   "id": "b4e965d5-8848-4b45-8e12-2fb147069cf1",
   "metadata": {},
   "outputs": [],
   "source": [
    "from intake import open_esm_datastore\n",
    "import xarray as xr\n",
    "import cf_xarray\n",
    "import matplotlib.pyplot as plt\n",
    "from datatree import DataTree, map_over_subtree\n",
    "\n",
    "from dask.distributed import Client"
   ]
  },
  {
   "cell_type": "code",
   "execution_count": 22,
   "id": "1e04d81b-2685-4306-94a7-602875d09258",
   "metadata": {},
   "outputs": [
    {
     "data": {
      "text/html": [
       "<div>\n",
       "    <div style=\"width: 24px; height: 24px; background-color: #e1e1e1; border: 3px solid #9D9D9D; border-radius: 5px; position: absolute;\"> </div>\n",
       "    <div style=\"margin-left: 48px;\">\n",
       "        <h3 style=\"margin-bottom: 0px;\">Client</h3>\n",
       "        <p style=\"color: #9D9D9D; margin-bottom: 0px;\">Client-6fce0539-6f6d-11ef-8a94-000007befe80</p>\n",
       "        <table style=\"width: 100%; text-align: left;\">\n",
       "\n",
       "        <tr>\n",
       "        \n",
       "            <td style=\"text-align: left;\"><strong>Connection method:</strong> Cluster object</td>\n",
       "            <td style=\"text-align: left;\"><strong>Cluster type:</strong> distributed.LocalCluster</td>\n",
       "        \n",
       "        </tr>\n",
       "\n",
       "        \n",
       "            <tr>\n",
       "                <td style=\"text-align: left;\">\n",
       "                    <strong>Dashboard: </strong> <a href=\"/proxy/8787/status\" target=\"_blank\">/proxy/8787/status</a>\n",
       "                </td>\n",
       "                <td style=\"text-align: left;\"></td>\n",
       "            </tr>\n",
       "        \n",
       "\n",
       "        </table>\n",
       "\n",
       "        \n",
       "            <button style=\"margin-bottom: 12px;\" data-commandlinker-command=\"dask:populate-and-launch-layout\" data-commandlinker-args='{\"url\": \"/proxy/8787/status\" }'>\n",
       "                Launch dashboard in JupyterLab\n",
       "            </button>\n",
       "        \n",
       "\n",
       "        \n",
       "            <details>\n",
       "            <summary style=\"margin-bottom: 20px;\"><h3 style=\"display: inline;\">Cluster Info</h3></summary>\n",
       "            <div class=\"jp-RenderedHTMLCommon jp-RenderedHTML jp-mod-trusted jp-OutputArea-output\">\n",
       "    <div style=\"width: 24px; height: 24px; background-color: #e1e1e1; border: 3px solid #9D9D9D; border-radius: 5px; position: absolute;\">\n",
       "    </div>\n",
       "    <div style=\"margin-left: 48px;\">\n",
       "        <h3 style=\"margin-bottom: 0px; margin-top: 0px;\">LocalCluster</h3>\n",
       "        <p style=\"color: #9D9D9D; margin-bottom: 0px;\">e32879c3</p>\n",
       "        <table style=\"width: 100%; text-align: left;\">\n",
       "            <tr>\n",
       "                <td style=\"text-align: left;\">\n",
       "                    <strong>Dashboard:</strong> <a href=\"/proxy/8787/status\" target=\"_blank\">/proxy/8787/status</a>\n",
       "                </td>\n",
       "                <td style=\"text-align: left;\">\n",
       "                    <strong>Workers:</strong> 2\n",
       "                </td>\n",
       "            </tr>\n",
       "            <tr>\n",
       "                <td style=\"text-align: left;\">\n",
       "                    <strong>Total threads:</strong> 2\n",
       "                </td>\n",
       "                <td style=\"text-align: left;\">\n",
       "                    <strong>Total memory:</strong> 9.00 GiB\n",
       "                </td>\n",
       "            </tr>\n",
       "            \n",
       "            <tr>\n",
       "    <td style=\"text-align: left;\"><strong>Status:</strong> running</td>\n",
       "    <td style=\"text-align: left;\"><strong>Using processes:</strong> True</td>\n",
       "</tr>\n",
       "\n",
       "            \n",
       "        </table>\n",
       "\n",
       "        <details>\n",
       "            <summary style=\"margin-bottom: 20px;\">\n",
       "                <h3 style=\"display: inline;\">Scheduler Info</h3>\n",
       "            </summary>\n",
       "\n",
       "            <div style=\"\">\n",
       "    <div>\n",
       "        <div style=\"width: 24px; height: 24px; background-color: #FFF7E5; border: 3px solid #FF6132; border-radius: 5px; position: absolute;\"> </div>\n",
       "        <div style=\"margin-left: 48px;\">\n",
       "            <h3 style=\"margin-bottom: 0px;\">Scheduler</h3>\n",
       "            <p style=\"color: #9D9D9D; margin-bottom: 0px;\">Scheduler-5ab102ac-4d4d-416b-846d-6cb16e98c6ff</p>\n",
       "            <table style=\"width: 100%; text-align: left;\">\n",
       "                <tr>\n",
       "                    <td style=\"text-align: left;\">\n",
       "                        <strong>Comm:</strong> tcp://127.0.0.1:42023\n",
       "                    </td>\n",
       "                    <td style=\"text-align: left;\">\n",
       "                        <strong>Workers:</strong> 2\n",
       "                    </td>\n",
       "                </tr>\n",
       "                <tr>\n",
       "                    <td style=\"text-align: left;\">\n",
       "                        <strong>Dashboard:</strong> <a href=\"/proxy/8787/status\" target=\"_blank\">/proxy/8787/status</a>\n",
       "                    </td>\n",
       "                    <td style=\"text-align: left;\">\n",
       "                        <strong>Total threads:</strong> 2\n",
       "                    </td>\n",
       "                </tr>\n",
       "                <tr>\n",
       "                    <td style=\"text-align: left;\">\n",
       "                        <strong>Started:</strong> Just now\n",
       "                    </td>\n",
       "                    <td style=\"text-align: left;\">\n",
       "                        <strong>Total memory:</strong> 9.00 GiB\n",
       "                    </td>\n",
       "                </tr>\n",
       "            </table>\n",
       "        </div>\n",
       "    </div>\n",
       "\n",
       "    <details style=\"margin-left: 48px;\">\n",
       "        <summary style=\"margin-bottom: 20px;\">\n",
       "            <h3 style=\"display: inline;\">Workers</h3>\n",
       "        </summary>\n",
       "\n",
       "        \n",
       "        <div style=\"margin-bottom: 20px;\">\n",
       "            <div style=\"width: 24px; height: 24px; background-color: #DBF5FF; border: 3px solid #4CC9FF; border-radius: 5px; position: absolute;\"> </div>\n",
       "            <div style=\"margin-left: 48px;\">\n",
       "            <details>\n",
       "                <summary>\n",
       "                    <h4 style=\"margin-bottom: 0px; display: inline;\">Worker: 0</h4>\n",
       "                </summary>\n",
       "                <table style=\"width: 100%; text-align: left;\">\n",
       "                    <tr>\n",
       "                        <td style=\"text-align: left;\">\n",
       "                            <strong>Comm: </strong> tcp://127.0.0.1:39595\n",
       "                        </td>\n",
       "                        <td style=\"text-align: left;\">\n",
       "                            <strong>Total threads: </strong> 1\n",
       "                        </td>\n",
       "                    </tr>\n",
       "                    <tr>\n",
       "                        <td style=\"text-align: left;\">\n",
       "                            <strong>Dashboard: </strong> <a href=\"/proxy/41823/status\" target=\"_blank\">/proxy/41823/status</a>\n",
       "                        </td>\n",
       "                        <td style=\"text-align: left;\">\n",
       "                            <strong>Memory: </strong> 4.50 GiB\n",
       "                        </td>\n",
       "                    </tr>\n",
       "                    <tr>\n",
       "                        <td style=\"text-align: left;\">\n",
       "                            <strong>Nanny: </strong> tcp://127.0.0.1:35151\n",
       "                        </td>\n",
       "                        <td style=\"text-align: left;\"></td>\n",
       "                    </tr>\n",
       "                    <tr>\n",
       "                        <td colspan=\"2\" style=\"text-align: left;\">\n",
       "                            <strong>Local directory: </strong> /jobfs/124561164.gadi-pbs/dask-scratch-space/worker-_pn56htv\n",
       "                        </td>\n",
       "                    </tr>\n",
       "\n",
       "                    \n",
       "\n",
       "                    \n",
       "\n",
       "                </table>\n",
       "            </details>\n",
       "            </div>\n",
       "        </div>\n",
       "        \n",
       "        <div style=\"margin-bottom: 20px;\">\n",
       "            <div style=\"width: 24px; height: 24px; background-color: #DBF5FF; border: 3px solid #4CC9FF; border-radius: 5px; position: absolute;\"> </div>\n",
       "            <div style=\"margin-left: 48px;\">\n",
       "            <details>\n",
       "                <summary>\n",
       "                    <h4 style=\"margin-bottom: 0px; display: inline;\">Worker: 1</h4>\n",
       "                </summary>\n",
       "                <table style=\"width: 100%; text-align: left;\">\n",
       "                    <tr>\n",
       "                        <td style=\"text-align: left;\">\n",
       "                            <strong>Comm: </strong> tcp://127.0.0.1:35227\n",
       "                        </td>\n",
       "                        <td style=\"text-align: left;\">\n",
       "                            <strong>Total threads: </strong> 1\n",
       "                        </td>\n",
       "                    </tr>\n",
       "                    <tr>\n",
       "                        <td style=\"text-align: left;\">\n",
       "                            <strong>Dashboard: </strong> <a href=\"/proxy/45439/status\" target=\"_blank\">/proxy/45439/status</a>\n",
       "                        </td>\n",
       "                        <td style=\"text-align: left;\">\n",
       "                            <strong>Memory: </strong> 4.50 GiB\n",
       "                        </td>\n",
       "                    </tr>\n",
       "                    <tr>\n",
       "                        <td style=\"text-align: left;\">\n",
       "                            <strong>Nanny: </strong> tcp://127.0.0.1:42047\n",
       "                        </td>\n",
       "                        <td style=\"text-align: left;\"></td>\n",
       "                    </tr>\n",
       "                    <tr>\n",
       "                        <td colspan=\"2\" style=\"text-align: left;\">\n",
       "                            <strong>Local directory: </strong> /jobfs/124561164.gadi-pbs/dask-scratch-space/worker-hzorwnkt\n",
       "                        </td>\n",
       "                    </tr>\n",
       "\n",
       "                    \n",
       "\n",
       "                    \n",
       "\n",
       "                </table>\n",
       "            </details>\n",
       "            </div>\n",
       "        </div>\n",
       "        \n",
       "\n",
       "    </details>\n",
       "</div>\n",
       "\n",
       "        </details>\n",
       "    </div>\n",
       "</div>\n",
       "            </details>\n",
       "        \n",
       "\n",
       "    </div>\n",
       "</div>"
      ],
      "text/plain": [
       "<Client: 'tcp://127.0.0.1:42023' processes=2 threads=2, memory=9.00 GiB>"
      ]
     },
     "execution_count": 22,
     "metadata": {},
     "output_type": "execute_result"
    }
   ],
   "source": [
    "client = Client(threads_per_worker=1)\n",
    "\n",
    "client"
   ]
  },
  {
   "cell_type": "code",
   "execution_count": 24,
   "id": "9a3beb6a-fb1c-43fc-a3f2-c6aec2ace2d1",
   "metadata": {},
   "outputs": [],
   "source": [
    "ds = open_esm_datastore(\n",
    "    RUNS['DT_THERM_1800_DIABATIC_FIRST_True_THERMO_SPANS_COUPLING_False_DTBT_RESET_PERIOD_0'] + '/intake_esm_ds.json',\n",
    "            columns_with_iterables=[\"variable\"]\n",
    ")"
   ]
  },
  {
   "cell_type": "code",
   "execution_count": 26,
   "id": "80a96314-4534-45e9-86bc-268269d613fe",
   "metadata": {},
   "outputs": [],
   "source": [
    "ds_pairs=dict([(iRun, (\n",
    "        open_esm_datastore(\n",
    "            RUNS[iRun] + '/intake_esm_ds.json',\n",
    "            columns_with_iterables=[\"variable\"] \n",
    "        ))) for iRun in RUNS])"
   ]
  },
  {
   "cell_type": "code",
   "execution_count": 27,
   "id": "6ef73768-8173-40ed-ad57-b9111c8c8803",
   "metadata": {},
   "outputs": [
    {
     "data": {
      "text/plain": [
       "{'DT_THERM_1800_DIABATIC_FIRST_True_THERMO_SPANS_COUPLING_False_DTBT_RESET_PERIOD_0': <intake_esm_ds catalog with 4594 dataset(s) from 5976 asset(s)>,\n",
       " 'DT_THERM_54000_DIABATIC_FIRST_False_THERMO_SPANS_COUPLING_True_DTBT_RESET_PERIOD_54000': <intake_esm_ds catalog with 2684 dataset(s) from 3622 asset(s)>,\n",
       " 'DT_THERM_36000_DIABATIC_FIRST_False_THERMO_SPANS_COUPLING_True_DTBT_RESET_PERIOD_36000': <intake_esm_ds catalog with 2684 dataset(s) from 3622 asset(s)>,\n",
       " 'DT_THERM_18000_DIABATIC_FIRST_False_THERMO_SPANS_COUPLING_True_DTBT_RESET_PERIOD_18000': <intake_esm_ds catalog with 2684 dataset(s) from 3622 asset(s)>,\n",
       " 'DT_THERM_7200_DIABATIC_FIRST_False_THERMO_SPANS_COUPLING_True_DTBT_RESET_PERIOD_7200': <intake_esm_ds catalog with 2684 dataset(s) from 3622 asset(s)>,\n",
       " 'DT_THERM_10800_DIABATIC_FIRST_False_THERMO_SPANS_COUPLING_True_DTBT_RESET_PERIOD_10800': <intake_esm_ds catalog with 2704 dataset(s) from 3642 asset(s)>,\n",
       " 'DT_THERM_14400_DIABATIC_FIRST_False_THERMO_SPANS_COUPLING_True_DTBT_RESET_PERIOD_14400': <intake_esm_ds catalog with 2704 dataset(s) from 3642 asset(s)>,\n",
       " 'DT_THERM_3600_DIABATIC_FIRST_False_THERMO_SPANS_COUPLING_True_DTBT_RESET_PERIOD_3600': <intake_esm_ds catalog with 2704 dataset(s) from 3642 asset(s)>}"
      ]
     },
     "execution_count": 27,
     "metadata": {},
     "output_type": "execute_result"
    }
   ],
   "source": [
    "ds_pairs"
   ]
  },
  {
   "cell_type": "code",
   "execution_count": 28,
   "id": "e3ad5dd2-10ae-4820-9735-95dd574139bb",
   "metadata": {},
   "outputs": [],
   "source": [
    "def open_by_experiment_om3(ds, vars):\n",
    "    \"\"\"Concatenate any datasets provided for this experiment into one ds, and add area and geo coordinates\"\"\"\n",
    "\n",
    "    # get the data for each run of this config\n",
    "    cice_ds = ds.search(variable=vars).to_dask(\n",
    "            xarray_combine_by_coords_kwargs={\n",
    "                \"compat\": \"override\",\n",
    "                \"data_vars\": \"minimal\",\n",
    "                \"coords\": \"minimal\",\n",
    "            },\n",
    "        )\n",
    "\n",
    "    # We also want the area/lat/lon fields, but these are not time dependent.\n",
    "    # This is slightly dodge loading them from MOM, because they can be not exact matches to CICE. MOM5 uses area_t ... and MOM6 uses area for the same var\n",
    "    area_ds = xr.open_dataset(\n",
    "        ds.search(variable=[\"area_t\", \"geolat_t\", \"geolon_t\", \"area\", \"geolat\", \"geolon\"]).df.path[0]\n",
    "    )\n",
    "    # xr.open_dataset(\n",
    "    #             '/g/data/vk83/experiments/inputs/access-om3/cice/grids/global.1deg/2024.05.14/grid.nc', \n",
    "    #             decode_coords=False\n",
    "    #         )\n",
    "\n",
    "    # Label the lats and lons\n",
    "    cice_ds.coords[\"ni\"] = area_ds[\"xh\"].values\n",
    "    cice_ds.coords[\"nj\"] = area_ds[\"yh\"].values\n",
    "\n",
    "    # Copy attributes for cf compliance\n",
    "    cice_ds.ni.attrs = area_ds.xh.attrs\n",
    "    cice_ds.nj.attrs = area_ds.yh.attrs\n",
    "\n",
    "    cice_ds = cice_ds.rename(({\"ni\": \"xh\", \"nj\": \"yh\"}))\n",
    "\n",
    "    # Add the geolon, geolat, and area as extra co-ordinates fields from area_t\n",
    "\n",
    "    cice_ds = cice_ds.assign_coords(\n",
    "        {\n",
    "            \"geolat_t\": area_ds.geolat,\n",
    "            \"geolon_t\": area_ds.geolon,\n",
    "            \"area_t\": area_ds.areacello,\n",
    "        }\n",
    "    )\n",
    "\n",
    "    return cice_ds"
   ]
  },
  {
   "cell_type": "code",
   "execution_count": 31,
   "id": "b1bf5c70-40ea-4a23-a0fc-cdec11b27fe7",
   "metadata": {},
   "outputs": [
    {
     "data": {
      "text/plain": [
       "dict_keys(['DT_THERM_1800_DIABATIC_FIRST_True_THERMO_SPANS_COUPLING_False_DTBT_RESET_PERIOD_0', 'DT_THERM_54000_DIABATIC_FIRST_False_THERMO_SPANS_COUPLING_True_DTBT_RESET_PERIOD_54000', 'DT_THERM_36000_DIABATIC_FIRST_False_THERMO_SPANS_COUPLING_True_DTBT_RESET_PERIOD_36000', 'DT_THERM_18000_DIABATIC_FIRST_False_THERMO_SPANS_COUPLING_True_DTBT_RESET_PERIOD_18000', 'DT_THERM_7200_DIABATIC_FIRST_False_THERMO_SPANS_COUPLING_True_DTBT_RESET_PERIOD_7200', 'DT_THERM_10800_DIABATIC_FIRST_False_THERMO_SPANS_COUPLING_True_DTBT_RESET_PERIOD_10800', 'DT_THERM_14400_DIABATIC_FIRST_False_THERMO_SPANS_COUPLING_True_DTBT_RESET_PERIOD_14400', 'DT_THERM_3600_DIABATIC_FIRST_False_THERMO_SPANS_COUPLING_True_DTBT_RESET_PERIOD_3600'])"
      ]
     },
     "execution_count": 31,
     "metadata": {},
     "output_type": "execute_result"
    }
   ],
   "source": [
    "RUNS.keys()"
   ]
  },
  {
   "cell_type": "code",
   "execution_count": 30,
   "id": "8100a82c-91e2-4867-8766-6c2bcfd42ad2",
   "metadata": {},
   "outputs": [
    {
     "ename": "ValueError",
     "evalue": "Expected exactly one dataset. Received 45 datasets. Please refine your search or use `.to_dataset_dict()`.",
     "output_type": "error",
     "traceback": [
      "\u001b[0;31m---------------------------------------------------------------------------\u001b[0m",
      "\u001b[0;31mValueError\u001b[0m                                Traceback (most recent call last)",
      "File \u001b[0;32m<timed exec>:2\u001b[0m\n",
      "File \u001b[0;32m<timed exec>:2\u001b[0m, in \u001b[0;36m<listcomp>\u001b[0;34m(.0)\u001b[0m\n",
      "Cell \u001b[0;32mIn[28], line 5\u001b[0m, in \u001b[0;36mopen_by_experiment_om3\u001b[0;34m(ds, vars)\u001b[0m\n\u001b[1;32m      2\u001b[0m \u001b[38;5;250m\u001b[39m\u001b[38;5;124;03m\"\"\"Concatenate any datasets provided for this experiment into one ds, and add area and geo coordinates\"\"\"\u001b[39;00m\n\u001b[1;32m      4\u001b[0m \u001b[38;5;66;03m# get the data for each run of this config\u001b[39;00m\n\u001b[0;32m----> 5\u001b[0m cice_ds \u001b[38;5;241m=\u001b[39m \u001b[43mds\u001b[49m\u001b[38;5;241;43m.\u001b[39;49m\u001b[43msearch\u001b[49m\u001b[43m(\u001b[49m\u001b[43mvariable\u001b[49m\u001b[38;5;241;43m=\u001b[39;49m\u001b[38;5;28;43mvars\u001b[39;49m\u001b[43m)\u001b[49m\u001b[38;5;241;43m.\u001b[39;49m\u001b[43mto_dask\u001b[49m\u001b[43m(\u001b[49m\n\u001b[1;32m      6\u001b[0m \u001b[43m        \u001b[49m\u001b[43mxarray_combine_by_coords_kwargs\u001b[49m\u001b[38;5;241;43m=\u001b[39;49m\u001b[43m{\u001b[49m\n\u001b[1;32m      7\u001b[0m \u001b[43m            \u001b[49m\u001b[38;5;124;43m\"\u001b[39;49m\u001b[38;5;124;43mcompat\u001b[39;49m\u001b[38;5;124;43m\"\u001b[39;49m\u001b[43m:\u001b[49m\u001b[43m \u001b[49m\u001b[38;5;124;43m\"\u001b[39;49m\u001b[38;5;124;43moverride\u001b[39;49m\u001b[38;5;124;43m\"\u001b[39;49m\u001b[43m,\u001b[49m\n\u001b[1;32m      8\u001b[0m \u001b[43m            \u001b[49m\u001b[38;5;124;43m\"\u001b[39;49m\u001b[38;5;124;43mdata_vars\u001b[39;49m\u001b[38;5;124;43m\"\u001b[39;49m\u001b[43m:\u001b[49m\u001b[43m \u001b[49m\u001b[38;5;124;43m\"\u001b[39;49m\u001b[38;5;124;43mminimal\u001b[39;49m\u001b[38;5;124;43m\"\u001b[39;49m\u001b[43m,\u001b[49m\n\u001b[1;32m      9\u001b[0m \u001b[43m            \u001b[49m\u001b[38;5;124;43m\"\u001b[39;49m\u001b[38;5;124;43mcoords\u001b[39;49m\u001b[38;5;124;43m\"\u001b[39;49m\u001b[43m:\u001b[49m\u001b[43m \u001b[49m\u001b[38;5;124;43m\"\u001b[39;49m\u001b[38;5;124;43mminimal\u001b[39;49m\u001b[38;5;124;43m\"\u001b[39;49m\u001b[43m,\u001b[49m\n\u001b[1;32m     10\u001b[0m \u001b[43m        \u001b[49m\u001b[43m}\u001b[49m\u001b[43m,\u001b[49m\n\u001b[1;32m     11\u001b[0m \u001b[43m    \u001b[49m\u001b[43m)\u001b[49m\n\u001b[1;32m     13\u001b[0m \u001b[38;5;66;03m# We also want the area/lat/lon fields, but these are not time dependent.\u001b[39;00m\n\u001b[1;32m     14\u001b[0m \u001b[38;5;66;03m# This is slightly dodge loading them from MOM, because they can be not exact matches to CICE. MOM5 uses area_t ... and MOM6 uses area for the same var\u001b[39;00m\n\u001b[1;32m     15\u001b[0m area_ds \u001b[38;5;241m=\u001b[39m xr\u001b[38;5;241m.\u001b[39mopen_dataset(\n\u001b[1;32m     16\u001b[0m     ds\u001b[38;5;241m.\u001b[39msearch(variable\u001b[38;5;241m=\u001b[39m[\u001b[38;5;124m\"\u001b[39m\u001b[38;5;124marea_t\u001b[39m\u001b[38;5;124m\"\u001b[39m, \u001b[38;5;124m\"\u001b[39m\u001b[38;5;124mgeolat_t\u001b[39m\u001b[38;5;124m\"\u001b[39m, \u001b[38;5;124m\"\u001b[39m\u001b[38;5;124mgeolon_t\u001b[39m\u001b[38;5;124m\"\u001b[39m, \u001b[38;5;124m\"\u001b[39m\u001b[38;5;124marea\u001b[39m\u001b[38;5;124m\"\u001b[39m, \u001b[38;5;124m\"\u001b[39m\u001b[38;5;124mgeolat\u001b[39m\u001b[38;5;124m\"\u001b[39m, \u001b[38;5;124m\"\u001b[39m\u001b[38;5;124mgeolon\u001b[39m\u001b[38;5;124m\"\u001b[39m])\u001b[38;5;241m.\u001b[39mdf\u001b[38;5;241m.\u001b[39mpath[\u001b[38;5;241m0\u001b[39m]\n\u001b[1;32m     17\u001b[0m )\n",
      "File \u001b[0;32m/g/data/hh5/public/apps/miniconda3/envs/analysis3-24.07/lib/python3.10/site-packages/intake_esm/core.py:811\u001b[0m, in \u001b[0;36mesm_datastore.to_dask\u001b[0;34m(self, **kwargs)\u001b[0m\n\u001b[1;32m    796\u001b[0m \u001b[38;5;250m\u001b[39m\u001b[38;5;124;03m\"\"\"\u001b[39;00m\n\u001b[1;32m    797\u001b[0m \u001b[38;5;124;03mConvert result to an xarray dataset.\u001b[39;00m\n\u001b[1;32m    798\u001b[0m \n\u001b[0;32m   (...)\u001b[0m\n\u001b[1;32m    808\u001b[0m \u001b[38;5;124;03m:py:class:`~xarray.Dataset`\u001b[39;00m\n\u001b[1;32m    809\u001b[0m \u001b[38;5;124;03m\"\"\"\u001b[39;00m\n\u001b[1;32m    810\u001b[0m \u001b[38;5;28;01mif\u001b[39;00m \u001b[38;5;28mlen\u001b[39m(\u001b[38;5;28mself\u001b[39m) \u001b[38;5;241m!=\u001b[39m \u001b[38;5;241m1\u001b[39m:  \u001b[38;5;66;03m# quick check to fail more quickly if there are many results\u001b[39;00m\n\u001b[0;32m--> 811\u001b[0m     \u001b[38;5;28;01mraise\u001b[39;00m \u001b[38;5;167;01mValueError\u001b[39;00m(\n\u001b[1;32m    812\u001b[0m         \u001b[38;5;124mf\u001b[39m\u001b[38;5;124m'\u001b[39m\u001b[38;5;124mExpected exactly one dataset. Received \u001b[39m\u001b[38;5;132;01m{\u001b[39;00m\u001b[38;5;28mlen\u001b[39m(\u001b[38;5;28mself\u001b[39m)\u001b[38;5;132;01m}\u001b[39;00m\u001b[38;5;124m datasets. Please refine your search or use `.to_dataset_dict()`.\u001b[39m\u001b[38;5;124m'\u001b[39m\n\u001b[1;32m    813\u001b[0m     )\n\u001b[1;32m    814\u001b[0m res \u001b[38;5;241m=\u001b[39m \u001b[38;5;28mself\u001b[39m\u001b[38;5;241m.\u001b[39mto_dataset_dict(\u001b[38;5;241m*\u001b[39m\u001b[38;5;241m*\u001b[39m{\u001b[38;5;241m*\u001b[39m\u001b[38;5;241m*\u001b[39mkwargs, \u001b[38;5;124m'\u001b[39m\u001b[38;5;124mprogressbar\u001b[39m\u001b[38;5;124m'\u001b[39m: \u001b[38;5;28;01mFalse\u001b[39;00m})\n\u001b[1;32m    815\u001b[0m \u001b[38;5;28;01mif\u001b[39;00m \u001b[38;5;28mlen\u001b[39m(res) \u001b[38;5;241m!=\u001b[39m \u001b[38;5;241m1\u001b[39m:  \u001b[38;5;66;03m# extra check in case kwargs did modify something\u001b[39;00m\n",
      "\u001b[0;31mValueError\u001b[0m: Expected exactly one dataset. Received 45 datasets. Please refine your search or use `.to_dataset_dict()`."
     ]
    }
   ],
   "source": [
    "%%time\n",
    "VARS = ['T_adx']\n",
    "si_name_ds_pairs = [(iRun, open_by_experiment_om3(ds_pairs[iRun], VARS)) for iRun in RUNS.keys()]"
   ]
  }
 ],
 "metadata": {
  "kernelspec": {
   "display_name": "Python [conda env:analysis3-24.07] *",
   "language": "python",
   "name": "conda-env-analysis3-24.07-py"
  },
  "language_info": {
   "codemirror_mode": {
    "name": "ipython",
    "version": 3
   },
   "file_extension": ".py",
   "mimetype": "text/x-python",
   "name": "python",
   "nbconvert_exporter": "python",
   "pygments_lexer": "ipython3",
   "version": "3.10.14"
  }
 },
 "nbformat": 4,
 "nbformat_minor": 5
}
