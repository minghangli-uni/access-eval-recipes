{
 "cells": [
  {
   "cell_type": "code",
   "execution_count": 1,
   "id": "616f9c0e-2ff9-484b-92e1-9d0b34113b11",
   "metadata": {},
   "outputs": [],
   "source": [
    "import os\n",
    "from pprint import pprint"
   ]
  },
  {
   "cell_type": "code",
   "execution_count": 2,
   "id": "a015546b-7b45-4592-8db0-f2ba4ad2b647",
   "metadata": {},
   "outputs": [
    {
     "name": "stdout",
     "output_type": "stream",
     "text": [
      "16.0 12.0\n"
     ]
    },
    {
     "data": {
      "text/plain": [
       "16.875"
      ]
     },
     "execution_count": 2,
     "metadata": {},
     "output_type": "execute_result"
    }
   ],
   "source": [
    "ntasks = 480\n",
    "NXGLOB = 1440\n",
    "NYGLOB = 1080\n",
    "BLCKX = NXGLOB / 90\n",
    "BLCKY = NYGLOB / 90\n",
    "print(BLCKX, BLCKY)\n",
    "a = NXGLOB*NYGLOB\n",
    "b = BLCKX*BLCKY*ntasks\n",
    "MXBLCKS = a/b\n",
    "MXBLCKS"
   ]
  },
  {
   "cell_type": "code",
   "execution_count": 3,
   "id": "7e2b6bc9-e54b-492d-8aa7-c11d3c428e29",
   "metadata": {},
   "outputs": [],
   "source": [
    "#runtime = ((tmean * tsteps - tmax) / (tsteps - 1))"
   ]
  },
  {
   "cell_type": "code",
   "execution_count": 4,
   "id": "3f0bace7-3d7c-442f-b8dc-f2a1a69576c3",
   "metadata": {},
   "outputs": [],
   "source": [
    "a = (32*0.52-0.58)/(32-1)"
   ]
  },
  {
   "cell_type": "code",
   "execution_count": 5,
   "id": "467b6a86-71cc-4a6c-9f5e-b6040e30ec28",
   "metadata": {},
   "outputs": [
    {
     "data": {
      "text/plain": [
       "3.2004981320049803"
      ]
     },
     "execution_count": 5,
     "metadata": {},
     "output_type": "execute_result"
    }
   ],
   "source": [
    "(32*1.66-1.72)/(32-1) / a"
   ]
  },
  {
   "cell_type": "code",
   "execution_count": 6,
   "id": "8178cada-9190-4208-a37d-fab7cf424465",
   "metadata": {},
   "outputs": [
    {
     "data": {
      "text/plain": [
       "3.6464646464646466"
      ]
     },
     "execution_count": 6,
     "metadata": {},
     "output_type": "execute_result"
    }
   ],
   "source": [
    "361/99"
   ]
  },
  {
   "cell_type": "code",
   "execution_count": 7,
   "id": "101d94d9-187a-4918-9e9e-01a928f4ac40",
   "metadata": {},
   "outputs": [],
   "source": [
    "def runtime_cal(tmean, tmax, tsteps=32):\n",
    "    return ((tmean * tsteps - tmax) / (tsteps - 1))"
   ]
  },
  {
   "cell_type": "code",
   "execution_count": 8,
   "id": "706953bf-b21f-419c-906a-33532af01a69",
   "metadata": {},
   "outputs": [
    {
     "data": {
      "text/plain": [
       "[0.051814516129032255,\n",
       " 0.03289314516129033,\n",
       " 0.01618951612903226,\n",
       " 0.016008064516129034,\n",
       " 0.024143145161290323]"
      ]
     },
     "execution_count": 8,
     "metadata": {},
     "output_type": "execute_result"
    }
   ],
   "source": [
    "dir_path = '/g/data/tm70/ml0072/COMMON/git_repos/COSIMA_om3-scripts/expts_manager/om2-scalings_tests'\n",
    "folder_names = [\n",
    "    'Ctrl-0.25deg_jra55do_ryf-ice-99cores',  # 99 120 cores\n",
    "    'Ctrl-0.25deg_jra55do_ryf-ice-190cores', # 200 120 cores\n",
    "    'Ctrl-0.25deg_jra55do_ryf', # 361 480 cores spack\n",
    "    # 'Ctrl-0.25deg_jra55do_ryf-ice-697cores', # 697  120 cores\n",
    "    # 'Ctrl-0.25deg_jra55do_ryf-ice-697cores2', # 697 120 cores\n",
    "    'Ctrl-0.25deg_jra55do_ryf-ice-529cores',\n",
    "    'Ctrl-0.25deg_jra55do_ryf-ice-697cores3', # 697 480 cores spack\n",
    "]\n",
    "file_paths = [os.path.join(dir_path, folder_name, 'archive/output000/ice/ice_diag.d') for folder_name in folder_names]\n",
    "\n",
    "timing_info_alli = []\n",
    "for file_path in file_paths:\n",
    "    timing_info = {}\n",
    "    with open(file_path, 'r') as f:\n",
    "        lines = f.readlines()\n",
    "    for i, line in enumerate(lines):\n",
    "        if \"Timer   3:  Dynamics\" in line:\n",
    "            max_line = lines[i + 2].strip()\n",
    "            mean_line = lines[i + 3].strip()\n",
    "    \n",
    "            timing_info[\"max\"] = float(max_line.split('=')[-1].strip().split()[0])\n",
    "            timing_info[\"mean\"] = float(mean_line.split('=')[-1].strip().split()[0])\n",
    "\n",
    "    timing_info_alli.append(timing_info)\n",
    "\n",
    "ice_runtime = [runtime_cal(timing_info['mean'], timing_info['max'])/32 for timing_info in timing_info_alli]\n",
    "ice_runtime"
   ]
  },
  {
   "cell_type": "code",
   "execution_count": 9,
   "id": "45dcfbee-bc89-4fc5-be3a-b012f8eb04c8",
   "metadata": {},
   "outputs": [
    {
     "data": {
      "text/plain": [
       "0.051814516129032255"
      ]
     },
     "execution_count": 9,
     "metadata": {},
     "output_type": "execute_result"
    }
   ],
   "source": [
    "1.6580645161290322/32"
   ]
  },
  {
   "cell_type": "code",
   "execution_count": 10,
   "id": "fa0efc66-7005-4b65-a0a0-584c0ed6867a",
   "metadata": {},
   "outputs": [
    {
     "name": "stdout",
     "output_type": "stream",
     "text": [
      "[{'tavg': 2.4001540625,\n",
      "  'tmax': 2.40026203125,\n",
      "  'tmin': 2.39993175,\n",
      "  'tstd': 5.403125e-05},\n",
      " {'tavg': 1.16896559375,\n",
      "  'tmax': 1.16912115625,\n",
      "  'tmin': 1.16875090625,\n",
      "  'tstd': 6.015625e-05},\n",
      " {'tavg': 0.583133625,\n",
      "  'tmax': 0.583376,\n",
      "  'tmin': 0.58302365625,\n",
      "  'tstd': 4.246875e-05},\n",
      " {'tavg': 0.38928321875,\n",
      "  'tmax': 0.389380375,\n",
      "  'tmin': 0.38920415625,\n",
      "  'tstd': 3.640625e-05},\n",
      " {'tavg': 0.16674321875,\n",
      "  'tmax': 0.1670044375,\n",
      "  'tmin': 0.16662096875,\n",
      "  'tstd': 8.609375e-05},\n",
      " {'tavg': 0.13754578125,\n",
      "  'tmax': 0.137677375,\n",
      "  'tmin': 0.13749746875,\n",
      "  'tstd': 4.2e-05}]\n"
     ]
    }
   ],
   "source": [
    "dir_path = '/g/data/tm70/ml0072/COMMON/git_repos/COSIMA_om3-scripts/expts_manager/om2-scalings_tests'\n",
    "folder_names = [\n",
    "    'Ctrl-0.25deg_jra55do_ryf-mom213',  # 192\n",
    "    'Ctrl-0.25deg_jra55do_ryf-mom384', # 200 120 cores\n",
    "    'Ctrl-0.25deg_jra55do_ryf-mom768', # 361 480 cores spack\n",
    "    'Ctrl-0.25deg_jra55do_ryf-mom1536', # 697  120 cores\n",
    "    'Ctrl-0.25deg_jra55do_ryf-mom3072', # 697 120 cores\n",
    "    'Ctrl-0.25deg_jra55do_ryf-mom3840', # 697 120 cores\n",
    "    # 'Ctrl-0.25deg_jra55do_ryf-mom6144', # 697 480 cores spack\n",
    "    # 'Ctrl-0.25deg_jra55do_ryf-mom12288', # 697 480 cores spack\n",
    "]\n",
    "file_paths = [os.path.join(dir_path, folder_name, 'archive/output000/access-om2.out') for folder_name in folder_names]\n",
    "\n",
    "\n",
    "timing_info_all = []\n",
    "for file_path in file_paths:\n",
    "    with open(file_path, 'r') as file:\n",
    "        main_loop_info = {}\n",
    "        for line in file:\n",
    "            if line.strip().startswith(\"Main Loop\"):\n",
    "                #print(line)\n",
    "                # Split the line by whitespace and extract values\n",
    "                parts = line.split()\n",
    "                \n",
    "                # Check if the line has the expected number of parts (at least 5 for Main Loop stats)\n",
    "                if len(parts) >= 5:\n",
    "                    try:\n",
    "                        main_loop_info['tmin'] = float(parts[2])/32\n",
    "                        main_loop_info['tmax'] = float(parts[3])/32\n",
    "                        main_loop_info['tavg'] = float(parts[4])/32\n",
    "                        main_loop_info['tstd'] = float(parts[5])/32\n",
    "                    except ValueError as e:\n",
    "                        print(f\"Error converting values: {e}\")\n",
    "\n",
    "        timing_info_all.append(main_loop_info)\n",
    "\n",
    "pprint(timing_info_all)"
   ]
  },
  {
   "cell_type": "code",
   "execution_count": 11,
   "id": "ce729c25-ba48-4252-92fb-e9c86f43334d",
   "metadata": {},
   "outputs": [],
   "source": [
    "from matplotlib import pyplot as plt\n",
    "import sys\n",
    "tool_dir0 = '/g/data/tm70/ml0072/COMMON/git_repos/COSIMA_om3-scripts/ESMF_profiling'\n",
    "sys.path.append(tool_dir0)"
   ]
  },
  {
   "cell_type": "code",
   "execution_count": 12,
   "id": "4da4f6a8-e780-4536-bfbf-accf308252c1",
   "metadata": {},
   "outputs": [
    {
     "data": {
      "image/png": "[encoded data removed]",
      "text/plain": [
       "<Figure size 1000x600 with 1 Axes>"
      ]
     },
     "metadata": {},
     "output_type": "display_data"
    }
   ],
   "source": [
    "label_fontsize = 12\n",
    "legend_fontsize = 12\n",
    "marker = ['P', 'o', 's', '^', 'v', 'D', 'p', '*']\n",
    "nrows = 1\n",
    "ncols = 1\n",
    "figsize = (10, 6)\n",
    "fig, axes = plt.subplots(nrows=nrows, ncols=ncols, figsize=figsize)\n",
    "axes = axes.flatten() if (nrows * ncols > 1) else [axes]\n",
    "\n",
    "colors = ['r', 'b', 'g', 'darkorange', 'pink', 'cyan', 'lime', 'silver', 'gold', 'purple', 'grey', 'r', 'g', 'pink']\n",
    "x_valueso = [192, 384, 768, 1536, 3072, 3840]\n",
    "axes[0].scatter(x_valueso, [timing_info['tavg'] for timing_info in timing_info_all], marker='o',\n",
    "                            facecolors='b', edgecolors='k', s=80)\n",
    "\n",
    "x_valuesi = [99, 200, 361, 529, 697]\n",
    "axes[0].scatter(x_valuesi, [i for i in ice_runtime], marker='s',\n",
    "                            facecolors='g', edgecolors='k', s=80)\n",
    "axes[0].plot([], [], '--', color='k')\n",
    "\n",
    "initial_y = timing_info_all[0]['tavg']\n",
    "y_valueso = [initial_y * (x_valueso[0]/x) for x in x_valueso]\n",
    "axes[0].plot(x_valueso, y_valueso, '--', color='b')\n",
    "\n",
    "\n",
    "initial_y = ice_runtime[2]\n",
    "y_valuesi = [initial_y * (x_valuesi[2]/x) for x in x_valuesi]\n",
    "axes[0].plot(x_valuesi, y_valuesi, '--', color='g')\n",
    "\n",
    "axes[0].grid(True)\n",
    "axes[0].set_xscale('log')\n",
    "axes[0].set_yscale('log')\n",
    "axes[0].legend(['MOM5','CICE5', 'Linear scaling'], loc='upper left', fontsize=legend_fontsize)\n",
    "xticks = [99, 361, 192, 768, 1536, 3072, 3840]\n",
    "xticks = [96, 192, 384, 768, 1536, 3072, 3840]\n",
    "xticks_unique = list(dict.fromkeys(xticks))\n",
    "axes[0].set_xticks(xticks_unique)\n",
    "axes[0].set_xticklabels(xticks_unique, rotation=45, fontsize=label_fontsize)\n",
    "axes[0].set_yticks([0.1, 1.0, 10])\n",
    "axes[0].set_yticklabels(['$10^{-1}$', '$10^0$', '$10^1$'], rotation=0, fontsize=label_fontsize)\n",
    "axes[0].xaxis.set_minor_locator(plt.NullLocator())\n",
    "plt.gca().tick_params(axis='both', which='both', direction='in', top=True, right=True)\n",
    "axes[0].set_xlabel('Number of CPU cores', fontsize=label_fontsize)\n",
    "axes[0].set_ylabel('Walltime / step (s)', fontsize=label_fontsize)\n",
    "plt.tight_layout()\n",
    "pic_name = \"performance_plot-om2\"\n",
    "file_path = os.path.join(tool_dir0, pic_name+ \".png\")\n",
    "plt.savefig(file_path,dpi=400)\n",
    "plt.show()"
   ]
  },
  {
   "cell_type": "code",
   "execution_count": 18,
   "id": "1e88c822-183e-4c56-bf73-079b195239bd",
   "metadata": {},
   "outputs": [
    {
     "data": {
      "text/plain": [
       "[2.4001540625,\n",
       " 1.16896559375,\n",
       " 0.583133625,\n",
       " 0.38928321875,\n",
       " 0.16674321875,\n",
       " 0.13754578125]"
      ]
     },
     "execution_count": 18,
     "metadata": {},
     "output_type": "execute_result"
    }
   ],
   "source": [
    "[timing_info['tavg'] for timing_info in timing_info_all]"
   ]
  },
  {
   "cell_type": "code",
   "execution_count": 16,
   "id": "435ddabc-96ce-4dcd-9a8d-a618c97c1809",
   "metadata": {},
   "outputs": [
    {
     "data": {
      "text/plain": [
       "[0.12800821666666665,\n",
       " 0.12468966333333334,\n",
       " 0.12440184,\n",
       " 0.16609417333333334,\n",
       " 0.14228754666666668,\n",
       " 0.1467155]"
      ]
     },
     "execution_count": 16,
     "metadata": {},
     "output_type": "execute_result"
    }
   ],
   "source": [
    "[timing_info['tavg']*tmp/3600 for timing_info, tmp  in zip(timing_info_all, x_valueso)]"
   ]
  },
  {
   "cell_type": "code",
   "execution_count": 19,
   "id": "5723491b-9754-4017-8924-02402f7bdf6a",
   "metadata": {},
   "outputs": [
    {
     "data": {
      "text/plain": [
       "[0.051814516129032255,\n",
       " 0.03289314516129033,\n",
       " 0.01618951612903226,\n",
       " 0.016008064516129034,\n",
       " 0.024143145161290323]"
      ]
     },
     "execution_count": 19,
     "metadata": {},
     "output_type": "execute_result"
    }
   ],
   "source": [
    "[i for i in ice_runtime]"
   ]
  },
  {
   "cell_type": "code",
   "execution_count": 17,
   "id": "40f9e7bb-a2a5-476f-9169-ccf05f5c5a89",
   "metadata": {},
   "outputs": [
    {
     "data": {
      "text/plain": [
       "[0.0014248991935483868,\n",
       " 0.0018273969534050184,\n",
       " 0.0016234487007168463,\n",
       " 0.002352296146953405,\n",
       " 0.004674381160394266]"
      ]
     },
     "execution_count": 17,
     "metadata": {},
     "output_type": "execute_result"
    }
   ],
   "source": [
    "[i*j/3600 for i,j in zip(ice_runtime, x_valuesi)]"
   ]
  }
 ],
 "metadata": {
  "kernelspec": {
   "display_name": "Python [conda env:analysis3-24.07] *",
   "language": "python",
   "name": "conda-env-analysis3-24.07-py"
  },
  "language_info": {
   "codemirror_mode": {
    "name": "ipython",
    "version": 3
   },
   "file_extension": ".py",
   "mimetype": "text/x-python",
   "name": "python",
   "nbconvert_exporter": "python",
   "pygments_lexer": "ipython3",
   "version": "3.10.14"
  }
 },
 "nbformat": 4,
 "nbformat_minor": 5
}
