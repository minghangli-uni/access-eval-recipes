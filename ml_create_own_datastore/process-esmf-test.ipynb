{
 "cells": [
  {
   "cell_type": "code",
   "execution_count": 1,
   "id": "a31508c8-d583-42b3-9df8-170cd46df51c",
   "metadata": {},
   "outputs": [],
   "source": [
    "%load_ext autoreload\n",
    "%autoreload 2"
   ]
  },
  {
   "cell_type": "code",
   "execution_count": 2,
   "id": "beaae0f7-2ffc-4272-aa58-b1e5f3f8c4f3",
   "metadata": {},
   "outputs": [
    {
     "name": "stdout",
     "output_type": "stream",
     "text": [
      "/g/data/tm70/ml0072/COMMON/git_repos/fork_access-eval-recipes/ml_create_own_datastore\n"
     ]
    }
   ],
   "source": [
    "cd /g/data/tm70/ml0072/COMMON/git_repos/fork_access-eval-recipes/ml_create_own_datastore"
   ]
  },
  {
   "cell_type": "code",
   "execution_count": 3,
   "id": "03b64624-2434-4c94-8b3a-7b0630a8d0b1",
   "metadata": {},
   "outputs": [],
   "source": [
    "import sys\n",
    "import os\n",
    "import re\n",
    "from pprint import pprint\n",
    "tool_dir = '/g/data/tm70/ml0072/COMMON/git_repos/fork_access-eval-recipes/ml_create_own_datastore'\n",
    "sys.path.append(tool_dir)\n",
    "from ESMF_profiling import _read_ryaml, _expt_fullname, list_esmf_files, _extract_ntasks_values, _extract_restart_stop_values, build_ESMF_trees, region_time_consumption, collect_runtime_tot\n",
    "from matplotlib import pyplot as plt"
   ]
  },
  {
   "cell_type": "code",
   "execution_count": 4,
   "id": "d9da175d-80ae-4c8b-b06b-2363307b06d7",
   "metadata": {},
   "outputs": [],
   "source": [
    "pics_folder = \"esmf-profiling\"\n",
    "pics_folder = os.path.join(tool_dir, pics_folder)\n",
    "os.makedirs(pics_folder, exist_ok=True)"
   ]
  },
  {
   "cell_type": "code",
   "execution_count": 12,
   "id": "d3f66650-201c-472d-870c-02fd8a45316b",
   "metadata": {},
   "outputs": [
    {
     "name": "stdout",
     "output_type": "stream",
     "text": [
      "['/g/data/tm70/ml0072/COMMON/git_repos/COSIMA_om3-scripts/expts_manager/product1_0.25deg_scaling_performance/pt_1_test/archive/output000',\n",
      " '/g/data/tm70/ml0072/COMMON/git_repos/COSIMA_om3-scripts/expts_manager/product1_0.25deg_scaling_performance/pt_2_test/archive/output000',\n",
      " '/g/data/tm70/ml0072/COMMON/git_repos/COSIMA_om3-scripts/expts_manager/product1_0.25deg_scaling_performance/pt_3_test/archive/output000',\n",
      " '/g/data/tm70/ml0072/COMMON/git_repos/COSIMA_om3-scripts/expts_manager/product1_0.25deg_scaling_performance/pt_4_test/archive/output000',\n",
      " '/g/data/tm70/ml0072/COMMON/git_repos/COSIMA_om3-scripts/expts_manager/product1_0.25deg_scaling_performance/pt_5_test/archive/output000',\n",
      " '/g/data/tm70/ml0072/COMMON/git_repos/COSIMA_om3-scripts/expts_manager/product1_0.25deg_scaling_performance/pt_6_test/archive/output000',\n",
      " '/g/data/tm70/ml0072/COMMON/git_repos/COSIMA_om3-scripts/expts_manager/product1_0.25deg_scaling_performance/pt_7_test/archive/output000',\n",
      " '/g/data/tm70/ml0072/COMMON/git_repos/COSIMA_om3-scripts/expts_manager/product1_0.25deg_scaling_performance/pt_8_test/archive/output000',\n",
      " '/g/data/tm70/ml0072/COMMON/git_repos/COSIMA_om3-scripts/expts_manager/product1_0.25deg_scaling_performance/pt_9_test/archive/output000',\n",
      " '/g/data/tm70/ml0072/COMMON/git_repos/COSIMA_om3-scripts/expts_manager/product1_0.25deg_scaling_performance/pt_10_test/archive/output000']\n",
      "['atm_ntasks_48_cpl_ntasks_96_ice_ntasks_288_ocn_ntasks_1152_ocn_rootpe_288_rof_ntasks_48',\n",
      " 'atm_ntasks_48_cpl_ntasks_96_ice_ntasks_240_ocn_ntasks_1200_ocn_rootpe_240_rof_ntasks_48',\n",
      " 'atm_ntasks_48_cpl_ntasks_288_ice_ntasks_288_ocn_ntasks_1152_ocn_rootpe_288_rof_ntasks_48',\n",
      " 'atm_ntasks_48_cpl_ntasks_240_ice_ntasks_240_ocn_ntasks_1200_ocn_rootpe_240_rof_ntasks_48',\n",
      " 'atm_ntasks_48_cpl_ntasks_192_ice_ntasks_288_ocn_ntasks_1152_ocn_rootpe_288_rof_ntasks_48',\n",
      " 'atm_ntasks_48_cpl_ntasks_48_ice_ntasks_288_ocn_ntasks_1152_ocn_rootpe_288_rof_ntasks_48',\n",
      " 'atm_ntasks_48_cpl_ntasks_48_ice_ntasks_288_ocn_ntasks_1152_ocn_rootpe_288_rof_ntasks_48',\n",
      " 'atm_ntasks_48_cpl_ntasks_48_ice_ntasks_288_ocn_ntasks_1152_ocn_rootpe_288_rof_ntasks_48',\n",
      " 'atm_ntasks_48_cpl_ntasks_144_ice_ntasks_288_ocn_ntasks_1152_ocn_rootpe_288_rof_ntasks_48',\n",
      " 'atm_ntasks_48_cpl_ntasks_192_ice_ntasks_288_ocn_ntasks_1152_ocn_rootpe_288_rof_ntasks_48']\n",
      "['restart_n_1_restart_option_ndays_stop_n_1_stop_option_ndays',\n",
      " 'restart_n_1_restart_option_ndays_stop_n_1_stop_option_ndays',\n",
      " 'restart_n_1_restart_option_ndays_stop_n_1_stop_option_ndays',\n",
      " 'restart_n_1_restart_option_ndays_stop_n_1_stop_option_ndays',\n",
      " 'restart_n_1_restart_option_ndays_stop_n_1_stop_option_ndays',\n",
      " 'restart_n_1_restart_option_ndays_stop_n_1_stop_option_ndays',\n",
      " 'restart_n_10_restart_option_ndays_stop_n_10_stop_option_ndays',\n",
      " 'restart_n_1_restart_option_nmonths_stop_n_1_stop_option_nmonths',\n",
      " 'restart_n_1_restart_option_nmonths_stop_n_1_stop_option_nmonths',\n",
      " 'restart_n_1_restart_option_nmonths_stop_n_1_stop_option_nmonths']\n"
     ]
    }
   ],
   "source": [
    "expts_manager_path = '/g/data/tm70/ml0072/COMMON/git_repos/COSIMA_om3-scripts/expts_manager'\n",
    "yaml_input = os.path.join(expts_manager_path, 'Expts_manager-025deg-scaling_performance.yaml')\n",
    "yamlfile_path = os.path.join(tool_dir,yaml_input)\n",
    "yaml_input = _read_ryaml(yamlfile_path)\n",
    "test_rel_path = yaml_input['test_path']\n",
    "esmf_expt_dir1 = yaml_input['namelists']['cross_block1']['cross_block1_dirs']\n",
    "esmf_expt_dirs = list(esmf_expt_dir1)\n",
    "MOM_full_paths = [os.path.join(expts_manager_path, test_rel_path, esmf_expt_dir) for esmf_expt_dir in  esmf_expt_dirs]\n",
    "xxx = '000'\n",
    "ESMF_path = [f\"{MOM_full_path}/archive/output{xxx}\" for MOM_full_path in MOM_full_paths]\n",
    "ncpus_list_combo1 = yaml_input['namelists']['cross_block1']['nuopc.runconfig']['PELAYOUT_attributes_combo']\n",
    "expt_names1 = _expt_fullname(ncpus_list_combo1)\n",
    "clock1_list_combo1 = yaml_input['namelists']['cross_block1']['nuopc.runconfig']['CLOCK_attributes_combo']\n",
    "clock1 = _expt_fullname(clock1_list_combo1)\n",
    "pprint(ESMF_path)\n",
    "pprint(expt_names1)\n",
    "pprint(clock1)"
   ]
  },
  {
   "cell_type": "code",
   "execution_count": 6,
   "id": "76da8d93-babc-4b8f-980b-0dc3341f9e1f",
   "metadata": {},
   "outputs": [],
   "source": [
    "date_values = _extract_restart_stop_values(clock1)"
   ]
  },
  {
   "cell_type": "code",
   "execution_count": 7,
   "id": "cc34ae92-574f-4b67-907e-7f1a228e9a8e",
   "metadata": {},
   "outputs": [
    {
     "data": {
      "text/plain": [
       "[{'atm_ntasks': 48,\n",
       "  'cpl_ntasks': 96,\n",
       "  'ice_ntasks': 288,\n",
       "  'ocn_ntasks': 1152,\n",
       "  'ocn_rootpe': 288,\n",
       "  'rof_ntasks': 48},\n",
       " {'atm_ntasks': 48,\n",
       "  'cpl_ntasks': 96,\n",
       "  'ice_ntasks': 240,\n",
       "  'ocn_ntasks': 1200,\n",
       "  'ocn_rootpe': 240,\n",
       "  'rof_ntasks': 48},\n",
       " {'atm_ntasks': 48,\n",
       "  'cpl_ntasks': 288,\n",
       "  'ice_ntasks': 288,\n",
       "  'ocn_ntasks': 1152,\n",
       "  'ocn_rootpe': 288,\n",
       "  'rof_ntasks': 48},\n",
       " {'atm_ntasks': 48,\n",
       "  'cpl_ntasks': 240,\n",
       "  'ice_ntasks': 240,\n",
       "  'ocn_ntasks': 1200,\n",
       "  'ocn_rootpe': 240,\n",
       "  'rof_ntasks': 48},\n",
       " {'atm_ntasks': 48,\n",
       "  'cpl_ntasks': 192,\n",
       "  'ice_ntasks': 288,\n",
       "  'ocn_ntasks': 1152,\n",
       "  'ocn_rootpe': 288,\n",
       "  'rof_ntasks': 48},\n",
       " {'atm_ntasks': 48,\n",
       "  'cpl_ntasks': 48,\n",
       "  'ice_ntasks': 288,\n",
       "  'ocn_ntasks': 1152,\n",
       "  'ocn_rootpe': 288,\n",
       "  'rof_ntasks': 48},\n",
       " {'atm_ntasks': 48,\n",
       "  'cpl_ntasks': 48,\n",
       "  'ice_ntasks': 288,\n",
       "  'ocn_ntasks': 1152,\n",
       "  'ocn_rootpe': 288,\n",
       "  'rof_ntasks': 48},\n",
       " {'atm_ntasks': 48,\n",
       "  'cpl_ntasks': 48,\n",
       "  'ice_ntasks': 288,\n",
       "  'ocn_ntasks': 1152,\n",
       "  'ocn_rootpe': 288,\n",
       "  'rof_ntasks': 48},\n",
       " {'atm_ntasks': 48,\n",
       "  'cpl_ntasks': 144,\n",
       "  'ice_ntasks': 288,\n",
       "  'ocn_ntasks': 1152,\n",
       "  'ocn_rootpe': 288,\n",
       "  'rof_ntasks': 48},\n",
       " {'atm_ntasks': 48,\n",
       "  'cpl_ntasks': 192,\n",
       "  'ice_ntasks': 288,\n",
       "  'ocn_ntasks': 1152,\n",
       "  'ocn_rootpe': 288,\n",
       "  'rof_ntasks': 48}]"
      ]
     },
     "execution_count": 7,
     "metadata": {},
     "output_type": "execute_result"
    }
   ],
   "source": [
    "task_values = _extract_ntasks_values(expt_names1)\n",
    "task_values"
   ]
  },
  {
   "cell_type": "code",
   "execution_count": 8,
   "id": "8d197fac-8187-4985-b0d3-f0888213e9a7",
   "metadata": {},
   "outputs": [],
   "source": [
    "varnames = [\n",
    "    '[ESMF]',\n",
    "    '[ESMF]/[ensemble] RunPhase1/[ESM0001] RunPhase1/[OCN] RunPhase1',\n",
    "    '[ESMF]/[ensemble] RunPhase1/[ESM0001] RunPhase1/[ICE] RunPhase1',\n",
    "    '[ESMF]/[ensemble] RunPhase1/[ESM0001] RunPhase1/[ATM] RunPhase1',\n",
    "    '[ESMF]/[ensemble] RunPhase1/[ESM0001] RunPhase1/[ROF] RunPhase1',\n",
    "\n",
    "    '[ESMF]/[ensemble] RunPhase1/[ESM0001] RunPhase1/[MED-TO-OCN] RunPhase1',\n",
    "    '[ESMF]/[ensemble] RunPhase1/[ESM0001] RunPhase1/[OCN-TO-MED] RunPhase1',\n",
    "    '[ESMF]/[ensemble] RunPhase1/[ESM0001] RunPhase1/[MED-TO-ICE] RunPhase1',\n",
    "    '[ESMF]/[ensemble] RunPhase1/[ESM0001] RunPhase1/[ICE-TO-MED] RunPhase1',\n",
    "\n",
    "    '[ESMF]/[ensemble] RunPhase1/[ESM0001] RunPhase1/[ATM-TO-MED] RunPhase1',\n",
    "    '[ESMF]/[ensemble] RunPhase1/[ESM0001] RunPhase1/[ROF-TO-MED] RunPhase1',\n",
    "\n",
    "    '[ESMF]/[ensemble] Init 1/[ESM0001] IPDv02p5/[MED] IPDv03p7/MED: (med_map_mod: RouteHandles_init)',\n",
    "    '[ESMF]/[ensemble] Init 1/[ESM0001] IPDv02p3/[ATM] IPDv01p3',\n",
    "    '[ESMF]/[ensemble] Init 1/[ESM0001] IPDv02p3/[ROF] IPDv01p3',\n",
    "    '[ESMF]/[ensemble] Init 1/[ESM0001] IPDv02p3/[ICE] IPDv01p3',\n",
    "\n",
    "]"
   ]
  },
  {
   "cell_type": "code",
   "execution_count": 9,
   "id": "4f118eaa-3a35-47f3-ab65-8785c0ee67e6",
   "metadata": {},
   "outputs": [
    {
     "name": "stdout",
     "output_type": "stream",
     "text": [
      "CPU times: user 36.3 ms, sys: 4.64 ms, total: 41 ms\n",
      "Wall time: 47.3 ms\n"
     ]
    }
   ],
   "source": [
    "%%time\n",
    "start_prefix='ESMF_Profile'\n",
    "# ESMF_Profile.xxx    : (0. count, 1. total, 2. self_time, 3. mean    , 4. min_time, 5. max_time           )\n",
    "# ESMF_Profile.summary: (0. count, 1. PETs , 2. mean     , 3. min_time, 4. max_time, 5. min_PET, 6. max_PET)\n",
    "esmf_summary = True\n",
    "index = 2\n",
    "runtime_tot = collect_runtime_tot(ESMF_path, varnames=varnames, start_prefix=start_prefix, esmf_summary=esmf_summary, index=index)"
   ]
  },
  {
   "cell_type": "code",
   "execution_count": 10,
   "id": "8345eb26-93ed-490d-97b7-542091bcf83a",
   "metadata": {},
   "outputs": [
    {
     "data": {
      "text/plain": [
       "[202.967]"
      ]
     },
     "execution_count": 10,
     "metadata": {},
     "output_type": "execute_result"
    }
   ],
   "source": [
    "runtime_tot[-1][varnames[5]]"
   ]
  },
  {
   "cell_type": "code",
   "execution_count": 11,
   "id": "c246a1de-8fbe-4515-9c29-aea754d5b92d",
   "metadata": {},
   "outputs": [
    {
     "data": {
      "text/plain": [
       "[210.324]"
      ]
     },
     "execution_count": 11,
     "metadata": {},
     "output_type": "execute_result"
    }
   ],
   "source": [
    "runtime_tot[-2][varnames[5]]"
   ]
  },
  {
   "cell_type": "code",
   "execution_count": 13,
   "id": "dfb778d6-eb2e-44b6-abdd-491c12318288",
   "metadata": {},
   "outputs": [
    {
     "data": {
      "text/plain": [
       "'atm_ntasks_48_cpl_ntasks_96_ice_ntasks_288_ocn_ntasks_1152_ocn_rootpe_288_rof_ntasks_48'"
      ]
     },
     "execution_count": 13,
     "metadata": {},
     "output_type": "execute_result"
    }
   ],
   "source": [
    "expt_names1[0]"
   ]
  },
  {
   "cell_type": "code",
   "execution_count": 91,
   "id": "fa982c74-237a-4c0a-8474-91915c6bfbc9",
   "metadata": {},
   "outputs": [
    {
     "data": {
      "text/plain": [
       "Text(0, 0.5, 'time_consumption (seconds)')"
      ]
     },
     "execution_count": 91,
     "metadata": {},
     "output_type": "execute_result"
    },
    {
     "data": {
      "image/png": "[encoded data removed]",
      "text/plain": [
       "<Figure size 1000x600 with 1 Axes>"
      ]
     },
     "metadata": {},
     "output_type": "display_data"
    }
   ],
   "source": [
    "label_fontsize = 12\n",
    "legend_fontsize = 9\n",
    "nrows=1\n",
    "ncols=1\n",
    "figsize=(10,6)\n",
    "fig, axes = plt.subplots(nrows=nrows, ncols=ncols, figsize=figsize)\n",
    "axes = axes.flatten() if (nrows * ncols > 1) else [axes]\n",
    "color = ['r', 'b', 'g']\n",
    "select_index = [-1, -2, -3]\n",
    "cpl_ntasks = [task_values[i]['cpl_ntasks'] for i in select_index]\n",
    "for j_index, i in enumerate(select_index):\n",
    "    axes[0].scatter(task_values[i]['cpl_ntasks'], runtime_tot[i][varnames[0]], marker='P',\n",
    "                    label=f\"ESMF - cpl_ntasks: {task_values[i]['cpl_ntasks']}\",\n",
    "                    facecolors=color[j_index], edgecolors=color[j_index])\n",
    "    axes[0].scatter(task_values[i]['cpl_ntasks'], runtime_tot[i][varnames[5]], marker='o',\n",
    "                    label=f\"MED-TO-OCN - cpl_ntasks: {task_values[i]['cpl_ntasks']}\",\n",
    "                    facecolors=color[j_index], edgecolors=color[j_index])\n",
    "    axes[0].scatter(task_values[i]['cpl_ntasks'], runtime_tot[i][varnames[6]], marker='s',\n",
    "                    label=f\"OCN-TO-MED - cpl_ntasks: {task_values[i]['cpl_ntasks']}\",\n",
    "                    facecolors=color[j_index], edgecolors=color[j_index])\n",
    "    axes[0].scatter(task_values[i]['cpl_ntasks'], runtime_tot[i][varnames[7]], marker='^',\n",
    "                    label=f\"MED-TO-ICE - cpl_ntasks: {task_values[i]['cpl_ntasks']}\",\n",
    "                    facecolors=color[j_index], edgecolors=color[j_index])\n",
    "    axes[0].scatter(task_values[i]['cpl_ntasks'], runtime_tot[i][varnames[8]], marker='v',\n",
    "                    label=f\"ICE-TO-MED - cpl_ntasks: {task_values[i]['cpl_ntasks']}\",\n",
    "                    facecolors=color[j_index], edgecolors=color[j_index])\n",
    "    axes[0].scatter(task_values[i]['cpl_ntasks'], runtime_tot[i][varnames[11]], marker='D',\n",
    "                    label=f\"MED - cpl_ntasks: {task_values[i]['cpl_ntasks']}\",\n",
    "                    facecolors=color[j_index], edgecolors=color[j_index])\n",
    "    #axes[0].legend(loc='best', fontsize=legend_fontsize)\n",
    "    axes[0].set_title(f\"{expt_names1[i]}\")\n",
    "\n",
    "\n",
    "axes[0].set_xticks(cpl_ntasks)\n",
    "axes[0].set_xlabel('# of cpl tasks', fontsize=label_fontsize)\n",
    "axes[0].set_ylabel('time_consumption (seconds)', fontsize=label_fontsize)"
   ]
  },
  {
   "cell_type": "code",
   "execution_count": 19,
   "id": "917a51aa-43be-49f6-bb2e-98da21cfb1ee",
   "metadata": {},
   "outputs": [
    {
     "data": {
      "text/plain": [
       "[{'[ESMF]': [253.9227],\n",
       "  '[ESMF]/[ensemble] RunPhase1/[ESM0001] RunPhase1/[OCN] RunPhase1': [181.9414],\n",
       "  '[ESMF]/[ensemble] RunPhase1/[ESM0001] RunPhase1/[ICE] RunPhase1': [24.8077],\n",
       "  '[ESMF]/[ensemble] RunPhase1/[ESM0001] RunPhase1/[ATM] RunPhase1': [0.8874],\n",
       "  '[ESMF]/[ensemble] RunPhase1/[ESM0001] RunPhase1/[ROF] RunPhase1': [0.0753],\n",
       "  '[ESMF]/[ensemble] RunPhase1/[ESM0001] RunPhase1/[MED-TO-OCN] RunPhase1': [8.4949],\n",
       "  '[ESMF]/[ensemble] RunPhase1/[ESM0001] RunPhase1/[OCN-TO-MED] RunPhase1': [12.1366],\n",
       "  '[ESMF]/[ensemble] RunPhase1/[ESM0001] RunPhase1/[MED-TO-ICE] RunPhase1': [35.124],\n",
       "  '[ESMF]/[ensemble] RunPhase1/[ESM0001] RunPhase1/[ICE-TO-MED] RunPhase1': [0.2653],\n",
       "  '[ESMF]/[ensemble] RunPhase1/[ESM0001] RunPhase1/[ATM-TO-MED] RunPhase1': [1.1118],\n",
       "  '[ESMF]/[ensemble] RunPhase1/[ESM0001] RunPhase1/[ROF-TO-MED] RunPhase1': [0.0695],\n",
       "  '[ESMF]/[ensemble] Init 1/[ESM0001] IPDv02p5/[MED] IPDv03p7/MED: (med_map_mod: RouteHandles_init)': [30.5014],\n",
       "  '[ESMF]/[ensemble] Init 1/[ESM0001] IPDv02p3/[ATM] IPDv01p3': [17.2448],\n",
       "  '[ESMF]/[ensemble] Init 1/[ESM0001] IPDv02p3/[ROF] IPDv01p3': [11.0326],\n",
       "  '[ESMF]/[ensemble] Init 1/[ESM0001] IPDv02p3/[ICE] IPDv01p3': [14.4795]},\n",
       " {'[ESMF]': [253.2974],\n",
       "  '[ESMF]/[ensemble] RunPhase1/[ESM0001] RunPhase1/[OCN] RunPhase1': [178.2758],\n",
       "  '[ESMF]/[ensemble] RunPhase1/[ESM0001] RunPhase1/[ICE] RunPhase1': [21.069],\n",
       "  '[ESMF]/[ensemble] RunPhase1/[ESM0001] RunPhase1/[ATM] RunPhase1': [0.8944],\n",
       "  '[ESMF]/[ensemble] RunPhase1/[ESM0001] RunPhase1/[ROF] RunPhase1': [0.0755],\n",
       "  '[ESMF]/[ensemble] RunPhase1/[ESM0001] RunPhase1/[MED-TO-OCN] RunPhase1': [8.1801],\n",
       "  '[ESMF]/[ensemble] RunPhase1/[ESM0001] RunPhase1/[OCN-TO-MED] RunPhase1': [11.7583],\n",
       "  '[ESMF]/[ensemble] RunPhase1/[ESM0001] RunPhase1/[MED-TO-ICE] RunPhase1': [31.5956],\n",
       "  '[ESMF]/[ensemble] RunPhase1/[ESM0001] RunPhase1/[ICE-TO-MED] RunPhase1': [0.3092],\n",
       "  '[ESMF]/[ensemble] RunPhase1/[ESM0001] RunPhase1/[ATM-TO-MED] RunPhase1': [1.0604],\n",
       "  '[ESMF]/[ensemble] RunPhase1/[ESM0001] RunPhase1/[ROF-TO-MED] RunPhase1': [0.056],\n",
       "  '[ESMF]/[ensemble] Init 1/[ESM0001] IPDv02p5/[MED] IPDv03p7/MED: (med_map_mod: RouteHandles_init)': [30.3543],\n",
       "  '[ESMF]/[ensemble] Init 1/[ESM0001] IPDv02p3/[ATM] IPDv01p3': [17.1514],\n",
       "  '[ESMF]/[ensemble] Init 1/[ESM0001] IPDv02p3/[ROF] IPDv01p3': [11.0662],\n",
       "  '[ESMF]/[ensemble] Init 1/[ESM0001] IPDv02p3/[ICE] IPDv01p3': [13.8259]},\n",
       " {'[ESMF]': [792.2292],\n",
       "  '[ESMF]/[ensemble] RunPhase1/[ESM0001] RunPhase1/[OCN] RunPhase1': [182.0473],\n",
       "  '[ESMF]/[ensemble] RunPhase1/[ESM0001] RunPhase1/[ICE] RunPhase1': [24.0352],\n",
       "  '[ESMF]/[ensemble] RunPhase1/[ESM0001] RunPhase1/[ATM] RunPhase1': [0.9048],\n",
       "  '[ESMF]/[ensemble] RunPhase1/[ESM0001] RunPhase1/[ROF] RunPhase1': [0.0757],\n",
       "  '[ESMF]/[ensemble] RunPhase1/[ESM0001] RunPhase1/[MED-TO-OCN] RunPhase1': [4.2629],\n",
       "  '[ESMF]/[ensemble] RunPhase1/[ESM0001] RunPhase1/[OCN-TO-MED] RunPhase1': [31.7366],\n",
       "  '[ESMF]/[ensemble] RunPhase1/[ESM0001] RunPhase1/[MED-TO-ICE] RunPhase1': [0.3572],\n",
       "  '[ESMF]/[ensemble] RunPhase1/[ESM0001] RunPhase1/[ICE-TO-MED] RunPhase1': [0.8589],\n",
       "  '[ESMF]/[ensemble] RunPhase1/[ESM0001] RunPhase1/[ATM-TO-MED] RunPhase1': [1.5791],\n",
       "  '[ESMF]/[ensemble] RunPhase1/[ESM0001] RunPhase1/[ROF-TO-MED] RunPhase1': [0.0596],\n",
       "  '[ESMF]/[ensemble] Init 1/[ESM0001] IPDv02p5/[MED] IPDv03p7/MED: (med_map_mod: RouteHandles_init)': [552.1488],\n",
       "  '[ESMF]/[ensemble] Init 1/[ESM0001] IPDv02p3/[ATM] IPDv01p3': [17.2447],\n",
       "  '[ESMF]/[ensemble] Init 1/[ESM0001] IPDv02p3/[ROF] IPDv01p3': [10.8742],\n",
       "  '[ESMF]/[ensemble] Init 1/[ESM0001] IPDv02p3/[ICE] IPDv01p3': [14.474]},\n",
       " {'[ESMF]': [505.6653],\n",
       "  '[ESMF]/[ensemble] RunPhase1/[ESM0001] RunPhase1/[OCN] RunPhase1': [177.979],\n",
       "  '[ESMF]/[ensemble] RunPhase1/[ESM0001] RunPhase1/[ICE] RunPhase1': [20.3675],\n",
       "  '[ESMF]/[ensemble] RunPhase1/[ESM0001] RunPhase1/[ATM] RunPhase1': [0.9014],\n",
       "  '[ESMF]/[ensemble] RunPhase1/[ESM0001] RunPhase1/[ROF] RunPhase1': [0.0762],\n",
       "  '[ESMF]/[ensemble] RunPhase1/[ESM0001] RunPhase1/[MED-TO-OCN] RunPhase1': [4.5893],\n",
       "  '[ESMF]/[ensemble] RunPhase1/[ESM0001] RunPhase1/[OCN-TO-MED] RunPhase1': [26.3757],\n",
       "  '[ESMF]/[ensemble] RunPhase1/[ESM0001] RunPhase1/[MED-TO-ICE] RunPhase1': [0.3761],\n",
       "  '[ESMF]/[ensemble] RunPhase1/[ESM0001] RunPhase1/[ICE-TO-MED] RunPhase1': [0.7721],\n",
       "  '[ESMF]/[ensemble] RunPhase1/[ESM0001] RunPhase1/[ATM-TO-MED] RunPhase1': [1.4759],\n",
       "  '[ESMF]/[ensemble] RunPhase1/[ESM0001] RunPhase1/[ROF-TO-MED] RunPhase1': [0.0631],\n",
       "  '[ESMF]/[ensemble] Init 1/[ESM0001] IPDv02p5/[MED] IPDv03p7/MED: (med_map_mod: RouteHandles_init)': [274.4678],\n",
       "  '[ESMF]/[ensemble] Init 1/[ESM0001] IPDv02p3/[ATM] IPDv01p3': [17.0799],\n",
       "  '[ESMF]/[ensemble] Init 1/[ESM0001] IPDv02p3/[ROF] IPDv01p3': [11.0074],\n",
       "  '[ESMF]/[ensemble] Init 1/[ESM0001] IPDv02p3/[ICE] IPDv01p3': [13.7662]},\n",
       " {'[ESMF]': [373.3643],\n",
       "  '[ESMF]/[ensemble] RunPhase1/[ESM0001] RunPhase1/[OCN] RunPhase1': [178.8619],\n",
       "  '[ESMF]/[ensemble] RunPhase1/[ESM0001] RunPhase1/[ICE] RunPhase1': [23.7913],\n",
       "  '[ESMF]/[ensemble] RunPhase1/[ESM0001] RunPhase1/[ATM] RunPhase1': [0.9267],\n",
       "  '[ESMF]/[ensemble] RunPhase1/[ESM0001] RunPhase1/[ROF] RunPhase1': [0.0746],\n",
       "  '[ESMF]/[ensemble] RunPhase1/[ESM0001] RunPhase1/[MED-TO-OCN] RunPhase1': [5.1618],\n",
       "  '[ESMF]/[ensemble] RunPhase1/[ESM0001] RunPhase1/[OCN-TO-MED] RunPhase1': [22.2156],\n",
       "  '[ESMF]/[ensemble] RunPhase1/[ESM0001] RunPhase1/[MED-TO-ICE] RunPhase1': [16.6886],\n",
       "  '[ESMF]/[ensemble] RunPhase1/[ESM0001] RunPhase1/[ICE-TO-MED] RunPhase1': [0.2921],\n",
       "  '[ESMF]/[ensemble] RunPhase1/[ESM0001] RunPhase1/[ATM-TO-MED] RunPhase1': [1.585],\n",
       "  '[ESMF]/[ensemble] RunPhase1/[ESM0001] RunPhase1/[ROF-TO-MED] RunPhase1': [0.0509],\n",
       "  '[ESMF]/[ensemble] Init 1/[ESM0001] IPDv02p5/[MED] IPDv03p7/MED: (med_map_mod: RouteHandles_init)': [147.6929],\n",
       "  '[ESMF]/[ensemble] Init 1/[ESM0001] IPDv02p3/[ATM] IPDv01p3': [17.321],\n",
       "  '[ESMF]/[ensemble] Init 1/[ESM0001] IPDv02p3/[ROF] IPDv01p3': [11.1376],\n",
       "  '[ESMF]/[ensemble] Init 1/[ESM0001] IPDv02p3/[ICE] IPDv01p3': [14.5413]},\n",
       " {'[ESMF]': [259.2329],\n",
       "  '[ESMF]/[ensemble] RunPhase1/[ESM0001] RunPhase1/[OCN] RunPhase1': [179.0859],\n",
       "  '[ESMF]/[ensemble] RunPhase1/[ESM0001] RunPhase1/[ICE] RunPhase1': [25.4761],\n",
       "  '[ESMF]/[ensemble] RunPhase1/[ESM0001] RunPhase1/[ATM] RunPhase1': [0.8792],\n",
       "  '[ESMF]/[ensemble] RunPhase1/[ESM0001] RunPhase1/[ROF] RunPhase1': [0.0779],\n",
       "  '[ESMF]/[ensemble] RunPhase1/[ESM0001] RunPhase1/[MED-TO-OCN] RunPhase1': [15.4513],\n",
       "  '[ESMF]/[ensemble] RunPhase1/[ESM0001] RunPhase1/[OCN-TO-MED] RunPhase1': [6.2386],\n",
       "  '[ESMF]/[ensemble] RunPhase1/[ESM0001] RunPhase1/[MED-TO-ICE] RunPhase1': [42.9851],\n",
       "  '[ESMF]/[ensemble] RunPhase1/[ESM0001] RunPhase1/[ICE-TO-MED] RunPhase1': [18.1861],\n",
       "  '[ESMF]/[ensemble] RunPhase1/[ESM0001] RunPhase1/[ATM-TO-MED] RunPhase1': [0.2571],\n",
       "  '[ESMF]/[ensemble] RunPhase1/[ESM0001] RunPhase1/[ROF-TO-MED] RunPhase1': [0.0329],\n",
       "  '[ESMF]/[ensemble] Init 1/[ESM0001] IPDv02p5/[MED] IPDv03p7/MED: (med_map_mod: RouteHandles_init)': [30.8172],\n",
       "  '[ESMF]/[ensemble] Init 1/[ESM0001] IPDv02p3/[ATM] IPDv01p3': [17.1253],\n",
       "  '[ESMF]/[ensemble] Init 1/[ESM0001] IPDv02p3/[ROF] IPDv01p3': [10.9995],\n",
       "  '[ESMF]/[ensemble] Init 1/[ESM0001] IPDv02p3/[ICE] IPDv01p3': [14.3729]},\n",
       " {'[ESMF]': [617.1411],\n",
       "  '[ESMF]/[ensemble] RunPhase1/[ESM0001] RunPhase1/[OCN] RunPhase1': [387.8676],\n",
       "  '[ESMF]/[ensemble] RunPhase1/[ESM0001] RunPhase1/[ICE] RunPhase1': [218.9203],\n",
       "  '[ESMF]/[ensemble] RunPhase1/[ESM0001] RunPhase1/[ATM] RunPhase1': [8.5942],\n",
       "  '[ESMF]/[ensemble] RunPhase1/[ESM0001] RunPhase1/[ROF] RunPhase1': [0.731],\n",
       "  '[ESMF]/[ensemble] RunPhase1/[ESM0001] RunPhase1/[MED-TO-OCN] RunPhase1': [158.5534],\n",
       "  '[ESMF]/[ensemble] RunPhase1/[ESM0001] RunPhase1/[OCN-TO-MED] RunPhase1': [7.9075],\n",
       "  '[ESMF]/[ensemble] RunPhase1/[ESM0001] RunPhase1/[MED-TO-ICE] RunPhase1': [175.5603],\n",
       "  '[ESMF]/[ensemble] RunPhase1/[ESM0001] RunPhase1/[ICE-TO-MED] RunPhase1': [24.926],\n",
       "  '[ESMF]/[ensemble] RunPhase1/[ESM0001] RunPhase1/[ATM-TO-MED] RunPhase1': [2.5512],\n",
       "  '[ESMF]/[ensemble] RunPhase1/[ESM0001] RunPhase1/[ROF-TO-MED] RunPhase1': [0.3178],\n",
       "  '[ESMF]/[ensemble] Init 1/[ESM0001] IPDv02p5/[MED] IPDv03p7/MED: (med_map_mod: RouteHandles_init)': [30.8578],\n",
       "  '[ESMF]/[ensemble] Init 1/[ESM0001] IPDv02p3/[ATM] IPDv01p3': [17.2031],\n",
       "  '[ESMF]/[ensemble] Init 1/[ESM0001] IPDv02p3/[ROF] IPDv01p3': [11.0178],\n",
       "  '[ESMF]/[ensemble] Init 1/[ESM0001] IPDv02p3/[ICE] IPDv01p3': [14.4415]},\n",
       " {'[ESMF]': [1470.3161],\n",
       "  '[ESMF]/[ensemble] RunPhase1/[ESM0001] RunPhase1/[OCN] RunPhase1': [864.195],\n",
       "  '[ESMF]/[ensemble] RunPhase1/[ESM0001] RunPhase1/[ICE] RunPhase1': [711.4221],\n",
       "  '[ESMF]/[ensemble] RunPhase1/[ESM0001] RunPhase1/[ATM] RunPhase1': [27.1035],\n",
       "  '[ESMF]/[ensemble] RunPhase1/[ESM0001] RunPhase1/[ROF] RunPhase1': [2.3132],\n",
       "  '[ESMF]/[ensemble] RunPhase1/[ESM0001] RunPhase1/[MED-TO-OCN] RunPhase1': [517.6101],\n",
       "  '[ESMF]/[ensemble] RunPhase1/[ESM0001] RunPhase1/[OCN-TO-MED] RunPhase1': [10.6576],\n",
       "  '[ESMF]/[ensemble] RunPhase1/[ESM0001] RunPhase1/[MED-TO-ICE] RunPhase1': [473.7575],\n",
       "  '[ESMF]/[ensemble] RunPhase1/[ESM0001] RunPhase1/[ICE-TO-MED] RunPhase1': [37.4881],\n",
       "  '[ESMF]/[ensemble] RunPhase1/[ESM0001] RunPhase1/[ATM-TO-MED] RunPhase1': [7.9197],\n",
       "  '[ESMF]/[ensemble] RunPhase1/[ESM0001] RunPhase1/[ROF-TO-MED] RunPhase1': [1.0033],\n",
       "  '[ESMF]/[ensemble] Init 1/[ESM0001] IPDv02p5/[MED] IPDv03p7/MED: (med_map_mod: RouteHandles_init)': [30.9482],\n",
       "  '[ESMF]/[ensemble] Init 1/[ESM0001] IPDv02p3/[ATM] IPDv01p3': [17.32],\n",
       "  '[ESMF]/[ensemble] Init 1/[ESM0001] IPDv02p3/[ROF] IPDv01p3': [11.1697],\n",
       "  '[ESMF]/[ensemble] Init 1/[ESM0001] IPDv02p3/[ICE] IPDv01p3': [14.5375]},\n",
       " {'[ESMF]': [1210.6516],\n",
       "  '[ESMF]/[ensemble] RunPhase1/[ESM0001] RunPhase1/[OCN] RunPhase1': [872.5902],\n",
       "  '[ESMF]/[ensemble] RunPhase1/[ESM0001] RunPhase1/[ICE] RunPhase1': [646.9763],\n",
       "  '[ESMF]/[ensemble] RunPhase1/[ESM0001] RunPhase1/[ATM] RunPhase1': [27.1084],\n",
       "  '[ESMF]/[ensemble] RunPhase1/[ESM0001] RunPhase1/[ROF] RunPhase1': [2.2545],\n",
       "  '[ESMF]/[ensemble] RunPhase1/[ESM0001] RunPhase1/[MED-TO-OCN] RunPhase1': [210.324],\n",
       "  '[ESMF]/[ensemble] RunPhase1/[ESM0001] RunPhase1/[OCN-TO-MED] RunPhase1': [28.1597],\n",
       "  '[ESMF]/[ensemble] RunPhase1/[ESM0001] RunPhase1/[MED-TO-ICE] RunPhase1': [197.2361],\n",
       "  '[ESMF]/[ensemble] RunPhase1/[ESM0001] RunPhase1/[ICE-TO-MED] RunPhase1': [3.7629],\n",
       "  '[ESMF]/[ensemble] RunPhase1/[ESM0001] RunPhase1/[ATM-TO-MED] RunPhase1': [41.6825],\n",
       "  '[ESMF]/[ensemble] RunPhase1/[ESM0001] RunPhase1/[ROF-TO-MED] RunPhase1': [2.0844],\n",
       "  '[ESMF]/[ensemble] Init 1/[ESM0001] IPDv02p5/[MED] IPDv03p7/MED: (med_map_mod: RouteHandles_init)': [64.0904],\n",
       "  '[ESMF]/[ensemble] Init 1/[ESM0001] IPDv02p3/[ATM] IPDv01p3': [17.1996],\n",
       "  '[ESMF]/[ensemble] Init 1/[ESM0001] IPDv02p3/[ROF] IPDv01p3': [11.1111],\n",
       "  '[ESMF]/[ensemble] Init 1/[ESM0001] IPDv02p3/[ICE] IPDv01p3': [14.4349]},\n",
       " {'[ESMF]': [1287.1628],\n",
       "  '[ESMF]/[ensemble] RunPhase1/[ESM0001] RunPhase1/[OCN] RunPhase1': [859.3024],\n",
       "  '[ESMF]/[ensemble] RunPhase1/[ESM0001] RunPhase1/[ICE] RunPhase1': [658.085],\n",
       "  '[ESMF]/[ensemble] RunPhase1/[ESM0001] RunPhase1/[ATM] RunPhase1': [28.3498],\n",
       "  '[ESMF]/[ensemble] RunPhase1/[ESM0001] RunPhase1/[ROF] RunPhase1': [2.3198],\n",
       "  '[ESMF]/[ensemble] RunPhase1/[ESM0001] RunPhase1/[MED-TO-OCN] RunPhase1': [202.967],\n",
       "  '[ESMF]/[ensemble] RunPhase1/[ESM0001] RunPhase1/[OCN-TO-MED] RunPhase1': [36.1628],\n",
       "  '[ESMF]/[ensemble] RunPhase1/[ESM0001] RunPhase1/[MED-TO-ICE] RunPhase1': [124.2261],\n",
       "  '[ESMF]/[ensemble] RunPhase1/[ESM0001] RunPhase1/[ICE-TO-MED] RunPhase1': [5.0297],\n",
       "  '[ESMF]/[ensemble] RunPhase1/[ESM0001] RunPhase1/[ATM-TO-MED] RunPhase1': [50.0804],\n",
       "  '[ESMF]/[ensemble] RunPhase1/[ESM0001] RunPhase1/[ROF-TO-MED] RunPhase1': [1.4482],\n",
       "  '[ESMF]/[ensemble] Init 1/[ESM0001] IPDv02p5/[MED] IPDv03p7/MED: (med_map_mod: RouteHandles_init)': [149.2905],\n",
       "  '[ESMF]/[ensemble] Init 1/[ESM0001] IPDv02p3/[ATM] IPDv01p3': [17.2316],\n",
       "  '[ESMF]/[ensemble] Init 1/[ESM0001] IPDv02p3/[ROF] IPDv01p3': [11.1568],\n",
       "  '[ESMF]/[ensemble] Init 1/[ESM0001] IPDv02p3/[ICE] IPDv01p3': [14.464]}]"
      ]
     },
     "execution_count": 19,
     "metadata": {},
     "output_type": "execute_result"
    }
   ],
   "source": [
    "runtime_tot"
   ]
  }
 ],
 "metadata": {
  "kernelspec": {
   "display_name": "Python [conda env:analysis3-24.07] *",
   "language": "python",
   "name": "conda-env-analysis3-24.07-py"
  },
  "language_info": {
   "codemirror_mode": {
    "name": "ipython",
    "version": 3
   },
   "file_extension": ".py",
   "mimetype": "text/x-python",
   "name": "python",
   "nbconvert_exporter": "python",
   "pygments_lexer": "ipython3",
   "version": "3.10.14"
  }
 },
 "nbformat": 4,
 "nbformat_minor": 5
}
