{
 "cells": [
  {
   "cell_type": "code",
   "execution_count": 1,
   "id": "9ee6ebcb-66cf-4570-8d92-d805ff5408ef",
   "metadata": {},
   "outputs": [],
   "source": [
    "%load_ext autoreload\n",
    "%autoreload 2"
   ]
  },
  {
   "cell_type": "code",
   "execution_count": 2,
   "id": "9296e8ed-68b0-4c9a-ac7c-bb634b977c5d",
   "metadata": {},
   "outputs": [],
   "source": [
    "import sys\n",
    "import os\n",
    "import re\n",
    "from matplotlib import pyplot as plt\n",
    "from pprint import pprint\n",
    "tool_dir = '/g/data/tm70/ml0072/COMMON/git_repos/COSIMA_om3-scripts/ESMF_profiling'\n",
    "sys.path.append(tool_dir)\n",
    "from esmf_related_functions import _read_ryaml, _expt_fullname, _extract_ntasks_values, _extract_restart_stop_values\n",
    "from esmfFileParser import collect_runtime_tot"
   ]
  },
  {
   "cell_type": "code",
   "execution_count": 3,
   "id": "45acfdeb-4191-4f1a-97b1-1c3d36487a44",
   "metadata": {},
   "outputs": [],
   "source": [
    "pics_folder = \"esmf-profiling\"\n",
    "pics_folder = os.path.join(tool_dir, pics_folder)\n",
    "os.makedirs(pics_folder, exist_ok=True)"
   ]
  },
  {
   "cell_type": "code",
   "execution_count": 4,
   "id": "cddb0444-dc7f-49d1-8b52-91e062049472",
   "metadata": {},
   "outputs": [
    {
     "name": "stdout",
     "output_type": "stream",
     "text": [
      "['/g/data/tm70/ml0072/COMMON/git_repos/COSIMA_om3-scripts/expts_manager/product1_0.25deg_scaling_performance/pt_1_test/archive/output000',\n",
      " '/g/data/tm70/ml0072/COMMON/git_repos/COSIMA_om3-scripts/expts_manager/product1_0.25deg_scaling_performance/pt_2_test/archive/output000',\n",
      " '/g/data/tm70/ml0072/COMMON/git_repos/COSIMA_om3-scripts/expts_manager/product1_0.25deg_scaling_performance/pt_3_test/archive/output000',\n",
      " '/g/data/tm70/ml0072/COMMON/git_repos/COSIMA_om3-scripts/expts_manager/product1_0.25deg_scaling_performance/pt_4_test/archive/output000',\n",
      " '/g/data/tm70/ml0072/COMMON/git_repos/COSIMA_om3-scripts/expts_manager/product1_0.25deg_scaling_performance/pt_5_test/archive/output000',\n",
      " '/g/data/tm70/ml0072/COMMON/git_repos/COSIMA_om3-scripts/expts_manager/product1_0.25deg_scaling_performance/pt_6_test/archive/output000',\n",
      " '/g/data/tm70/ml0072/COMMON/git_repos/COSIMA_om3-scripts/expts_manager/product1_0.25deg_scaling_performance/pt_7_test/archive/output000',\n",
      " '/g/data/tm70/ml0072/COMMON/git_repos/COSIMA_om3-scripts/expts_manager/product1_0.25deg_scaling_performance/pt_8_test/archive/output000',\n",
      " '/g/data/tm70/ml0072/COMMON/git_repos/COSIMA_om3-scripts/expts_manager/product1_0.25deg_scaling_performance/pt_9_test/archive/output000',\n",
      " '/g/data/tm70/ml0072/COMMON/git_repos/COSIMA_om3-scripts/expts_manager/product1_0.25deg_scaling_performance/pt_10_test/archive/output000']\n",
      "['atm_ntasks_48_cpl_ntasks_96_ice_ntasks_288_ocn_ntasks_1152_ocn_rootpe_288_rof_ntasks_48',\n",
      " 'atm_ntasks_48_cpl_ntasks_96_ice_ntasks_240_ocn_ntasks_1200_ocn_rootpe_240_rof_ntasks_48',\n",
      " 'atm_ntasks_48_cpl_ntasks_288_ice_ntasks_288_ocn_ntasks_1152_ocn_rootpe_288_rof_ntasks_48',\n",
      " 'atm_ntasks_48_cpl_ntasks_240_ice_ntasks_240_ocn_ntasks_1200_ocn_rootpe_240_rof_ntasks_48',\n",
      " 'atm_ntasks_48_cpl_ntasks_192_ice_ntasks_288_ocn_ntasks_1152_ocn_rootpe_288_rof_ntasks_48',\n",
      " 'atm_ntasks_48_cpl_ntasks_48_ice_ntasks_288_ocn_ntasks_1152_ocn_rootpe_288_rof_ntasks_48',\n",
      " 'atm_ntasks_48_cpl_ntasks_48_ice_ntasks_288_ocn_ntasks_1152_ocn_rootpe_288_rof_ntasks_48',\n",
      " 'atm_ntasks_48_cpl_ntasks_48_ice_ntasks_288_ocn_ntasks_1152_ocn_rootpe_288_rof_ntasks_48',\n",
      " 'atm_ntasks_48_cpl_ntasks_144_ice_ntasks_288_ocn_ntasks_1152_ocn_rootpe_288_rof_ntasks_48',\n",
      " 'atm_ntasks_48_cpl_ntasks_192_ice_ntasks_288_ocn_ntasks_1152_ocn_rootpe_288_rof_ntasks_48']\n",
      "['restart_n_1_restart_option_ndays_stop_n_1_stop_option_ndays',\n",
      " 'restart_n_1_restart_option_ndays_stop_n_1_stop_option_ndays',\n",
      " 'restart_n_1_restart_option_ndays_stop_n_1_stop_option_ndays',\n",
      " 'restart_n_1_restart_option_ndays_stop_n_1_stop_option_ndays',\n",
      " 'restart_n_1_restart_option_ndays_stop_n_1_stop_option_ndays',\n",
      " 'restart_n_1_restart_option_ndays_stop_n_1_stop_option_ndays',\n",
      " 'restart_n_10_restart_option_ndays_stop_n_10_stop_option_ndays',\n",
      " 'restart_n_1_restart_option_nmonths_stop_n_1_stop_option_nmonths',\n",
      " 'restart_n_1_restart_option_nmonths_stop_n_1_stop_option_nmonths',\n",
      " 'restart_n_1_restart_option_nmonths_stop_n_1_stop_option_nmonths']\n"
     ]
    }
   ],
   "source": [
    "expts_manager_path = '/g/data/tm70/ml0072/COMMON/git_repos/COSIMA_om3-scripts/expts_manager'\n",
    "yaml_input = os.path.join(expts_manager_path, 'Expts_manager-025deg-scaling_performance.yaml')\n",
    "yamlfile_path = os.path.join(tool_dir,yaml_input)\n",
    "yaml_input = _read_ryaml(yamlfile_path)\n",
    "test_rel_path = yaml_input['test_path']\n",
    "esmf_expt_dir1 = yaml_input['namelists']['cross_block1']['cross_block1_dirs']\n",
    "esmf_expt_dirs = list(esmf_expt_dir1)\n",
    "MOM_full_paths = [os.path.join(expts_manager_path, test_rel_path, esmf_expt_dir) for esmf_expt_dir in  esmf_expt_dirs]\n",
    "xxx = '000'\n",
    "ESMF_path = [f\"{MOM_full_path}/archive/output{xxx}\" for MOM_full_path in MOM_full_paths]\n",
    "ncpus_list_combo1 = yaml_input['namelists']['cross_block1']['nuopc.runconfig']['PELAYOUT_attributes_combo']\n",
    "expt_names1 = _expt_fullname(ncpus_list_combo1)\n",
    "clock1_list_combo1 = yaml_input['namelists']['cross_block1']['nuopc.runconfig']['CLOCK_attributes_combo']\n",
    "clock1 = _expt_fullname(clock1_list_combo1)\n",
    "pprint(ESMF_path)\n",
    "pprint(expt_names1)\n",
    "pprint(clock1)"
   ]
  },
  {
   "cell_type": "code",
   "execution_count": 5,
   "id": "d09b5c43-7634-433c-a2e4-360914a13505",
   "metadata": {},
   "outputs": [
    {
     "data": {
      "text/plain": [
       "[{'restart_n': 1,\n",
       "  'restart_option': 'ndays',\n",
       "  'stop_n': 1,\n",
       "  'stop_option': 'ndays'},\n",
       " {'restart_n': 1,\n",
       "  'restart_option': 'ndays',\n",
       "  'stop_n': 1,\n",
       "  'stop_option': 'ndays'},\n",
       " {'restart_n': 1,\n",
       "  'restart_option': 'ndays',\n",
       "  'stop_n': 1,\n",
       "  'stop_option': 'ndays'},\n",
       " {'restart_n': 1,\n",
       "  'restart_option': 'ndays',\n",
       "  'stop_n': 1,\n",
       "  'stop_option': 'ndays'},\n",
       " {'restart_n': 1,\n",
       "  'restart_option': 'ndays',\n",
       "  'stop_n': 1,\n",
       "  'stop_option': 'ndays'},\n",
       " {'restart_n': 1,\n",
       "  'restart_option': 'ndays',\n",
       "  'stop_n': 1,\n",
       "  'stop_option': 'ndays'},\n",
       " {'restart_n': 10,\n",
       "  'restart_option': 'ndays',\n",
       "  'stop_n': 10,\n",
       "  'stop_option': 'ndays'},\n",
       " {'restart_n': 1,\n",
       "  'restart_option': 'nmonths',\n",
       "  'stop_n': 1,\n",
       "  'stop_option': 'nmonths'},\n",
       " {'restart_n': 1,\n",
       "  'restart_option': 'nmonths',\n",
       "  'stop_n': 1,\n",
       "  'stop_option': 'nmonths'},\n",
       " {'restart_n': 1,\n",
       "  'restart_option': 'nmonths',\n",
       "  'stop_n': 1,\n",
       "  'stop_option': 'nmonths'}]"
      ]
     },
     "execution_count": 5,
     "metadata": {},
     "output_type": "execute_result"
    }
   ],
   "source": [
    "date_values = _extract_restart_stop_values(clock1)\n",
    "date_values"
   ]
  },
  {
   "cell_type": "code",
   "execution_count": 6,
   "id": "57a121c0-4f12-426f-b918-acde7aa6ffa4",
   "metadata": {},
   "outputs": [
    {
     "data": {
      "text/plain": [
       "[{'atm_ntasks': 48,\n",
       "  'cpl_ntasks': 96,\n",
       "  'ice_ntasks': 288,\n",
       "  'ocn_ntasks': 1152,\n",
       "  'ocn_rootpe': 288,\n",
       "  'rof_ntasks': 48},\n",
       " {'atm_ntasks': 48,\n",
       "  'cpl_ntasks': 96,\n",
       "  'ice_ntasks': 240,\n",
       "  'ocn_ntasks': 1200,\n",
       "  'ocn_rootpe': 240,\n",
       "  'rof_ntasks': 48},\n",
       " {'atm_ntasks': 48,\n",
       "  'cpl_ntasks': 288,\n",
       "  'ice_ntasks': 288,\n",
       "  'ocn_ntasks': 1152,\n",
       "  'ocn_rootpe': 288,\n",
       "  'rof_ntasks': 48},\n",
       " {'atm_ntasks': 48,\n",
       "  'cpl_ntasks': 240,\n",
       "  'ice_ntasks': 240,\n",
       "  'ocn_ntasks': 1200,\n",
       "  'ocn_rootpe': 240,\n",
       "  'rof_ntasks': 48},\n",
       " {'atm_ntasks': 48,\n",
       "  'cpl_ntasks': 192,\n",
       "  'ice_ntasks': 288,\n",
       "  'ocn_ntasks': 1152,\n",
       "  'ocn_rootpe': 288,\n",
       "  'rof_ntasks': 48},\n",
       " {'atm_ntasks': 48,\n",
       "  'cpl_ntasks': 48,\n",
       "  'ice_ntasks': 288,\n",
       "  'ocn_ntasks': 1152,\n",
       "  'ocn_rootpe': 288,\n",
       "  'rof_ntasks': 48},\n",
       " {'atm_ntasks': 48,\n",
       "  'cpl_ntasks': 48,\n",
       "  'ice_ntasks': 288,\n",
       "  'ocn_ntasks': 1152,\n",
       "  'ocn_rootpe': 288,\n",
       "  'rof_ntasks': 48},\n",
       " {'atm_ntasks': 48,\n",
       "  'cpl_ntasks': 48,\n",
       "  'ice_ntasks': 288,\n",
       "  'ocn_ntasks': 1152,\n",
       "  'ocn_rootpe': 288,\n",
       "  'rof_ntasks': 48},\n",
       " {'atm_ntasks': 48,\n",
       "  'cpl_ntasks': 144,\n",
       "  'ice_ntasks': 288,\n",
       "  'ocn_ntasks': 1152,\n",
       "  'ocn_rootpe': 288,\n",
       "  'rof_ntasks': 48},\n",
       " {'atm_ntasks': 48,\n",
       "  'cpl_ntasks': 192,\n",
       "  'ice_ntasks': 288,\n",
       "  'ocn_ntasks': 1152,\n",
       "  'ocn_rootpe': 288,\n",
       "  'rof_ntasks': 48}]"
      ]
     },
     "execution_count": 6,
     "metadata": {},
     "output_type": "execute_result"
    }
   ],
   "source": [
    "task_values = _extract_ntasks_values(expt_names1)\n",
    "task_values"
   ]
  },
  {
   "cell_type": "code",
   "execution_count": 7,
   "id": "b73781c4-6b33-4c28-b1ef-704d587ce119",
   "metadata": {},
   "outputs": [],
   "source": [
    "regionNames = [\n",
    "    '[ESMF]',\n",
    "    '[ESMF]/[ensemble] RunPhase1/[ESM0001] RunPhase1/[OCN] RunPhase1',\n",
    "    '[ESMF]/[ensemble] RunPhase1/[ESM0001] RunPhase1/[ICE] RunPhase1',\n",
    "    '[ESMF]/[ensemble] RunPhase1/[ESM0001] RunPhase1/[ATM] RunPhase1',\n",
    "    '[ESMF]/[ensemble] RunPhase1/[ESM0001] RunPhase1/[ROF] RunPhase1',\n",
    "\n",
    "    '[ESMF]/[ensemble] RunPhase1/[ESM0001] RunPhase1/[MED-TO-OCN] RunPhase1',\n",
    "    '[ESMF]/[ensemble] RunPhase1/[ESM0001] RunPhase1/[OCN-TO-MED] RunPhase1',\n",
    "    '[ESMF]/[ensemble] RunPhase1/[ESM0001] RunPhase1/[MED-TO-ICE] RunPhase1',\n",
    "    '[ESMF]/[ensemble] RunPhase1/[ESM0001] RunPhase1/[ICE-TO-MED] RunPhase1',\n",
    "\n",
    "    '[ESMF]/[ensemble] RunPhase1/[ESM0001] RunPhase1/[ATM-TO-MED] RunPhase1',\n",
    "    '[ESMF]/[ensemble] RunPhase1/[ESM0001] RunPhase1/[ROF-TO-MED] RunPhase1',\n",
    "\n",
    "    '[ESMF]/[ensemble] Init 1/[ESM0001] IPDv02p5/[MED] IPDv03p7/MED: (med_map_mod: RouteHandles_init)',\n",
    "    '[ESMF]/[ensemble] Init 1/[ESM0001] IPDv02p3/[ATM] IPDv01p3',\n",
    "    '[ESMF]/[ensemble] Init 1/[ESM0001] IPDv02p3/[ROF] IPDv01p3',\n",
    "    '[ESMF]/[ensemble] Init 1/[ESM0001] IPDv02p3/[ICE] IPDv01p3',\n",
    "\n",
    "]"
   ]
  },
  {
   "cell_type": "code",
   "execution_count": 8,
   "id": "24986350-df1a-40c7-ba53-eb025d88d43d",
   "metadata": {},
   "outputs": [
    {
     "name": "stdout",
     "output_type": "stream",
     "text": [
      "CPU times: user 63.2 ms, sys: 17.9 ms, total: 81 ms\n",
      "Wall time: 321 ms\n"
     ]
    }
   ],
   "source": [
    "%%time\n",
    "profile_prefix='ESMF_Profile'\n",
    "# ESMF_Profile.xxx    : (0. count, 1. total, 2. self_time, 3. mean    , 4. min_time, 5. max_time           )\n",
    "# ESMF_Profile.summary: (0. count, 1. PETs , 2. mean     , 3. min_time, 4. max_time, 5. min_PET, 6. max_PET)\n",
    "esmf_summary = True\n",
    "index = 2\n",
    "runtime_tot = collect_runtime_tot(ESMF_path, regionNames=regionNames, profile_prefix=profile_prefix, esmf_summary=esmf_summary, index=index)"
   ]
  },
  {
   "cell_type": "code",
   "execution_count": 9,
   "id": "cf018b54-5a25-42e4-b879-d4033aa5a560",
   "metadata": {},
   "outputs": [
    {
     "data": {
      "text/plain": [
       "10"
      ]
     },
     "execution_count": 9,
     "metadata": {},
     "output_type": "execute_result"
    }
   ],
   "source": [
    "len(runtime_tot)"
   ]
  },
  {
   "cell_type": "code",
   "execution_count": 12,
   "id": "2ca52c74-0ea3-4784-aa18-d47d630324ea",
   "metadata": {},
   "outputs": [
    {
     "data": {
      "text/plain": [
       "Text(0.5, 1.0, 'total # 1440')"
      ]
     },
     "execution_count": 12,
     "metadata": {},
     "output_type": "execute_result"
    },
    {
     "data": {
      "image/png": "[encoded data removed]",
      "text/plain": [
       "<Figure size 1000x600 with 1 Axes>"
      ]
     },
     "metadata": {},
     "output_type": "display_data"
    }
   ],
   "source": [
    "label_fontsize = 12\n",
    "legend_fontsize = 9\n",
    "nrows = 1\n",
    "ncols = 1\n",
    "figsize = (10, 6)\n",
    "fig, axes = plt.subplots(nrows=nrows, ncols=ncols, figsize=figsize)\n",
    "axes = axes.flatten() if (nrows * ncols > 1) else [axes]\n",
    "\n",
    "# Define colors for different datasets (cpl_ntasks)\n",
    "colors = ['red', 'blue', 'green']\n",
    "# Define markers for different variables (ESMF, MED-TO-OCN, etc.)\n",
    "markers = ['P', 'o', 's', '^', 'v', 'D']\n",
    "select_index = [-1, -2, -3]\n",
    "cpl_ntasks = [task_values[i]['cpl_ntasks'] for i in select_index]\n",
    "\n",
    "for j_index, i in enumerate(select_index):\n",
    "    color = colors[j_index]\n",
    "\n",
    "    axes[0].scatter(task_values[i]['cpl_ntasks'], runtime_tot[i][regionNames[0]], marker=markers[0],\n",
    "                    facecolors=color, edgecolors='k', s=50)  # ESMF\n",
    "    axes[0].scatter(task_values[i]['cpl_ntasks'], runtime_tot[i][regionNames[5]], marker=markers[1],\n",
    "                    facecolors=color, edgecolors='k')  # MED-TO-OCN\n",
    "    axes[0].scatter(task_values[i]['cpl_ntasks'], runtime_tot[i][regionNames[6]], marker=markers[2],\n",
    "                    facecolors=color, edgecolors='k')  # OCN-TO-MED\n",
    "    axes[0].scatter(task_values[i]['cpl_ntasks'], runtime_tot[i][regionNames[7]], marker=markers[3],\n",
    "                    facecolors=color, edgecolors='k')  # MED-TO-ICE\n",
    "    axes[0].scatter(task_values[i]['cpl_ntasks'], runtime_tot[i][regionNames[8]], marker=markers[4],\n",
    "                    facecolors=color, edgecolors='k')  # ICE-TO-MED\n",
    "    axes[0].scatter(task_values[i]['cpl_ntasks'], runtime_tot[i][regionNames[11]], marker=markers[5],\n",
    "                    facecolors=color, edgecolors='k')  # MED\n",
    "\n",
    "black_marker_legend = [\n",
    "    plt.scatter([0], [0], marker=markers[0], facecolors='k', edgecolors='k', label=\"ESMF (total)\"),\n",
    "    plt.scatter([0], [0], marker=markers[1], facecolors='k', edgecolors='k', label=\"MED-TO-OCN\"),\n",
    "    plt.scatter([0], [0], marker=markers[2], facecolors='k', edgecolors='k', label=\"OCN-TO-MED\"),\n",
    "    plt.scatter([0], [0], marker=markers[3], facecolors='k', edgecolors='k', label=\"MED-TO-ICE\"),\n",
    "    plt.scatter([0], [0], marker=markers[4], facecolors='k', edgecolors='k', label=\"ICE-TO-MED\"),\n",
    "    plt.scatter([0], [0], marker=markers[5], facecolors='k', edgecolors='k', label=\"MED\")\n",
    "]\n",
    "\n",
    "cpl_legend = [\n",
    "    plt.Line2D([0], [0], marker='o', color='red', label=\"cpl_ntasks = 192\", markersize=7),\n",
    "    plt.Line2D([0], [0], marker='o', color='blue', label=\"cpl_ntasks = 144\", markersize=7),\n",
    "    plt.Line2D([0], [0], marker='o', color='green', label=\"cpl_ntasks = 96\", markersize=7)\n",
    "]\n",
    "title = 'total # 1440'\n",
    "axes[0].legend(handles=black_marker_legend + cpl_legend, loc='upper right', fontsize=legend_fontsize)\n",
    "\n",
    "axes[0].set_xticks(cpl_ntasks)\n",
    "axes[0].set_xlabel('# of cpl tasks', fontsize=label_fontsize)\n",
    "axes[0].set_ylabel('time_consumption (seconds)', fontsize=label_fontsize)\n",
    "xlims = [36, 288]\n",
    "axes[0].set_xlim(xlims)\n",
    "axes[0].grid(True)\n",
    "axes[0].set_title(title, fontsize=label_fontsize)"
   ]
  },
  {
   "cell_type": "code",
   "execution_count": 13,
   "id": "c1e2c672-75af-4024-9a35-8e8822e4c2b1",
   "metadata": {},
   "outputs": [],
   "source": [
    "def profiling_test_select_cores(tot:list,\n",
    "                 ratio_m2i_start:int = 3,\n",
    "                 ratio_m2i_max:int = 20,\n",
    "                 cores_ice_min_start:int = 1000,\n",
    "                 cores_ice_min_threshold:int = 48,\n",
    "                 cores_ice_max_threshold:int = 456,\n",
    "                 cores_ocn_max_threshold:int = 2688):\n",
    "\n",
    "    cores_ice_total = []\n",
    "    cores_mom_total = []\n",
    "    cores_tot_total = []\n",
    "\n",
    "    \"\"\"\n",
    "    Selects cores based on given thresholds and ratios.\n",
    "\n",
    "    Parameters:\n",
    "    tot (list): A list of total cores.\n",
    "    ratio_m2i_start (int): Initial ratio of ocn to ice cores. Default is 3.\n",
    "    cores_ice_min_start (int): Initial minimum ice cores. Default is 1000. \n",
    "    cores_ice_min_threshold (int): Minimum threshold for ice cores.\n",
    "    cores_ice_max_threshold (int): Maximum threshold for ice cores.\n",
    "    cores_ocn_max_threshold (int): Maximum threshold for ocn cores.\n",
    "\n",
    "    Returns:\n",
    "    list: A list of selected cores.\n",
    "    \"\"\"\n",
    "    count = 0\n",
    "    ratio_tot = []\n",
    "    for i in range(len(tot)):\n",
    "        ratio_m2i_min = ratio_m2i_start\n",
    "        cores_ice_min = cores_ice_min_start\n",
    "        while cores_ice_min >= cores_ice_min_threshold:\n",
    "            cores_ice_min = tot[i] / (ratio_m2i_min + 1)\n",
    "            #print(ratio_m2i_min)\n",
    "            if cores_ice_min < cores_ice_min_threshold or cores_ice_min > cores_ice_max_threshold or ratio_m2i_min >ratio_m2i_max:\n",
    "                # Set a flag to indicate that one of the conditions is met\n",
    "                ratio_m2i_min += 1\n",
    "                continue\n",
    "                \n",
    "            if cores_ice_min % 1 == 0:  # Check cores_ice_min is integer and no conditions are met\n",
    "                cores_ice_min = int(cores_ice_min)\n",
    "                cores_mom_min = tot[i] - cores_ice_min\n",
    "                if cores_mom_min > cores_ocn_max_threshold:\n",
    "                    ratio_m2i_min += 1\n",
    "                    continue\n",
    "                cores_tot_min = cores_ice_min+cores_mom_min\n",
    "\n",
    "                cores_tot_total.append(cores_tot_min)\n",
    "                cores_ice_total.append(cores_ice_min)\n",
    "                cores_mom_total.append(cores_mom_min)\n",
    "                ratio_tot.append(ratio_m2i_min)\n",
    "                count += 1\n",
    "                # print(f'ratio_m2i_min: {ratio_m2i_min}')\n",
    "                # print(cores_mom_min, cores_ice_min)\n",
    "                \n",
    "            ratio_m2i_min += 1\n",
    "            \n",
    "    print(f'total acting cores: {cores_tot_total}')\n",
    "    print(f'total ICE cores: {cores_ice_total}')\n",
    "    print(f'total MOM cores: {cores_mom_total}')\n",
    "    print(f'ratio of MOM to ICE: {ratio_tot}')\n",
    "    print(f'total count of runs: {count}')\n",
    "    print(f'input total cores: {tot}')\n",
    "\n",
    "    return cores_tot_total,cores_ice_total,cores_mom_total,ratio_tot,count"
   ]
  },
  {
   "cell_type": "code",
   "execution_count": null,
   "id": "0f23e96e-dd29-4cee-a585-9136110de7d8",
   "metadata": {},
   "outputs": [],
   "source": [
    "tot = [48*i for i in range(1,7)]"
   ]
  },
  {
   "cell_type": "code",
   "execution_count": null,
   "id": "74265d36-ef59-4265-ba9b-b28fce4eadce",
   "metadata": {},
   "outputs": [],
   "source": [
    "ncpus_tot,ncpus_ice,ncpus_mom,ratio_tot,count = profiling_test_select_cores(tot = tot,\n",
    "                 ratio_m2i_start:int = 3,\n",
    "                 ratio_m2i_max:int = 20,\n",
    "                 cores_ice_min_start:int = 1e9,  # set a high value\n",
    "                 cores_ice_min_threshold:int = 24,\n",
    "                 cores_ice_max_threshold:int = 288,\n",
    "                 cores_ocn_max_threshold:int = 864)"
   ]
  }
 ],
 "metadata": {
  "kernelspec": {
   "display_name": "Python [conda env:analysis3-24.07] *",
   "language": "python",
   "name": "conda-env-analysis3-24.07-py"
  },
  "language_info": {
   "codemirror_mode": {
    "name": "ipython",
    "version": 3
   },
   "file_extension": ".py",
   "mimetype": "text/x-python",
   "name": "python",
   "nbconvert_exporter": "python",
   "pygments_lexer": "ipython3",
   "version": "3.10.14"
  }
 },
 "nbformat": 4,
 "nbformat_minor": 5
}
